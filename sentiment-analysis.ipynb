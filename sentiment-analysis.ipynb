{
  "cells": [
    {
      "cell_type": "markdown",
      "metadata": {
        "id": "view-in-github",
        "colab_type": "text"
      },
      "source": [
        "<a href=\"https://colab.research.google.com/github/nishantbala/twitter-sentiment-analysis/blob/master/sentiment-analysis.ipynb\" target=\"_parent\"><img src=\"https://colab.research.google.com/assets/colab-badge.svg\" alt=\"Open In Colab\"/></a>"
      ]
    },
    {
      "cell_type": "markdown",
      "id": "28393154-77b9-4109-9edd-4f18a739980f",
      "metadata": {
        "id": "28393154-77b9-4109-9edd-4f18a739980f"
      },
      "source": [
        "# **Hate Speech Classifier**\n",
        "### Import the libraries, load dataset, print shape of data, data description"
      ]
    },
    {
      "cell_type": "code",
      "execution_count": 1,
      "id": "744857d4-f7bf-4001-8c6b-d68a791cc1ca",
      "metadata": {
        "colab": {
          "base_uri": "https://localhost:8080/"
        },
        "id": "744857d4-f7bf-4001-8c6b-d68a791cc1ca",
        "outputId": "e627e914-256a-47ce-e81b-e3ee2a91e6ec"
      },
      "outputs": [
        {
          "output_type": "stream",
          "name": "stdout",
          "text": [
            "Collecting contractions\n",
            "  Downloading contractions-0.1.66-py2.py3-none-any.whl (8.0 kB)\n",
            "Collecting textsearch>=0.0.21\n",
            "  Downloading textsearch-0.0.21-py2.py3-none-any.whl (7.5 kB)\n",
            "Collecting pyahocorasick\n",
            "  Downloading pyahocorasick-1.4.2.tar.gz (321 kB)\n",
            "\u001b[K     |████████████████████████████████| 321 kB 7.4 MB/s \n",
            "\u001b[?25hCollecting anyascii\n",
            "  Downloading anyascii-0.3.0-py3-none-any.whl (284 kB)\n",
            "\u001b[K     |████████████████████████████████| 284 kB 32.5 MB/s \n",
            "\u001b[?25hBuilding wheels for collected packages: pyahocorasick\n",
            "  Building wheel for pyahocorasick (setup.py) ... \u001b[?25l\u001b[?25hdone\n",
            "  Created wheel for pyahocorasick: filename=pyahocorasick-1.4.2-cp37-cp37m-linux_x86_64.whl size=85454 sha256=68898f5689657b8788810ee90a8c6c4b7a99ca5ec7915bc1666f7c93d5627672\n",
            "  Stored in directory: /root/.cache/pip/wheels/25/19/a6/8f363d9939162782bb8439d886469756271abc01f76fbd790f\n",
            "Successfully built pyahocorasick\n",
            "Installing collected packages: pyahocorasick, anyascii, textsearch, contractions\n",
            "Successfully installed anyascii-0.3.0 contractions-0.1.66 pyahocorasick-1.4.2 textsearch-0.0.21\n",
            "[nltk_data] Downloading package stopwords to /root/nltk_data...\n",
            "[nltk_data]   Unzipping corpora/stopwords.zip.\n",
            "[nltk_data] Downloading package punkt to /root/nltk_data...\n",
            "[nltk_data]   Unzipping tokenizers/punkt.zip.\n",
            "[nltk_data] Downloading package wordnet to /root/nltk_data...\n",
            "[nltk_data]   Unzipping corpora/wordnet.zip.\n"
          ]
        }
      ],
      "source": [
        "!pip install contractions\n",
        "import re, string, unicodedata                          # Import Regex, string and unicodedata.\n",
        "import contractions                                     # Import contractions library.\n",
        "\n",
        "import numpy as np                                      # Import numpy.\n",
        "import pandas as pd                                     # Import pandas.\n",
        "import nltk                                             # Import Natural Language Tool-Kit.\n",
        "\n",
        "nltk.download('stopwords')                              # Download Stopwords.\n",
        "nltk.download('punkt')\n",
        "nltk.download('wordnet')\n",
        "\n",
        "from nltk.corpus import stopwords                       # Import stopwords.\n",
        "from nltk.tokenize import WhitespaceTokenizer           # Import Tokenizer.\n",
        "from nltk.stem.wordnet import WordNetLemmatizer         # Import Lemmatizer.\n",
        "from sklearn.metrics import accuracy_score\n",
        "\n",
        "import matplotlib.pyplot as plt                         # To plot the figures\n",
        "import seaborn as sns                                   # To plot the figures\n",
        "from sklearn.metrics import roc_curve\n",
        "from sklearn.metrics import classification_report\n",
        "\n",
        "from sklearn.model_selection import train_test_split\n",
        "\n",
        "from sklearn.ensemble import RandomForestClassifier\n",
        "from sklearn.model_selection import cross_val_score\n",
        "\n",
        "from sklearn.feature_extraction.text import TfidfVectorizer\n",
        "from sklearn.metrics import confusion_matrix\n",
        "\n",
        "%matplotlib inline"
      ]
    },
    {
      "cell_type": "code",
      "execution_count": 2,
      "id": "220e9a00-a171-46d7-9ef0-519c702944e5",
      "metadata": {
        "id": "220e9a00-a171-46d7-9ef0-519c702944e5"
      },
      "outputs": [],
      "source": [
        "# load dataset\n",
        "train = pd.read_csv('https://github.com/nishantbala/twitter-sentiment-analysis/blob/main/input/train.csv?raw=true')\n",
        "test = pd.read_csv('https://github.com/nishantbala/twitter-sentiment-analysis/blob/main/input/test.csv?raw=true')"
      ]
    },
    {
      "cell_type": "code",
      "source": [
        "#print shape\n",
        "\n",
        "train.shape"
      ],
      "metadata": {
        "colab": {
          "base_uri": "https://localhost:8080/"
        },
        "id": "F-e41MBSjJXq",
        "outputId": "83dbac57-6267-4cfb-9a93-aa7b43d95bb9"
      },
      "id": "F-e41MBSjJXq",
      "execution_count": 3,
      "outputs": [
        {
          "output_type": "execute_result",
          "data": {
            "text/plain": [
              "(31962, 3)"
            ]
          },
          "metadata": {},
          "execution_count": 3
        }
      ]
    },
    {
      "cell_type": "code",
      "source": [
        "#train data first 5 data\n",
        "train.head()"
      ],
      "metadata": {
        "colab": {
          "base_uri": "https://localhost:8080/",
          "height": 206
        },
        "id": "RLOFOLOxjPD5",
        "outputId": "7f0b9a34-f9a8-4d94-8503-aa216b8b469f"
      },
      "id": "RLOFOLOxjPD5",
      "execution_count": 4,
      "outputs": [
        {
          "output_type": "execute_result",
          "data": {
            "text/html": [
              "\n",
              "  <div id=\"df-e5980544-f4e4-405c-8783-9b41b2127cbb\">\n",
              "    <div class=\"colab-df-container\">\n",
              "      <div>\n",
              "<style scoped>\n",
              "    .dataframe tbody tr th:only-of-type {\n",
              "        vertical-align: middle;\n",
              "    }\n",
              "\n",
              "    .dataframe tbody tr th {\n",
              "        vertical-align: top;\n",
              "    }\n",
              "\n",
              "    .dataframe thead th {\n",
              "        text-align: right;\n",
              "    }\n",
              "</style>\n",
              "<table border=\"1\" class=\"dataframe\">\n",
              "  <thead>\n",
              "    <tr style=\"text-align: right;\">\n",
              "      <th></th>\n",
              "      <th>id</th>\n",
              "      <th>label</th>\n",
              "      <th>tweet</th>\n",
              "    </tr>\n",
              "  </thead>\n",
              "  <tbody>\n",
              "    <tr>\n",
              "      <th>0</th>\n",
              "      <td>1</td>\n",
              "      <td>0</td>\n",
              "      <td>@user when a father is dysfunctional and is s...</td>\n",
              "    </tr>\n",
              "    <tr>\n",
              "      <th>1</th>\n",
              "      <td>2</td>\n",
              "      <td>0</td>\n",
              "      <td>@user @user thanks for #lyft credit i can't us...</td>\n",
              "    </tr>\n",
              "    <tr>\n",
              "      <th>2</th>\n",
              "      <td>3</td>\n",
              "      <td>0</td>\n",
              "      <td>bihday your majesty</td>\n",
              "    </tr>\n",
              "    <tr>\n",
              "      <th>3</th>\n",
              "      <td>4</td>\n",
              "      <td>0</td>\n",
              "      <td>#model   i love u take with u all the time in ...</td>\n",
              "    </tr>\n",
              "    <tr>\n",
              "      <th>4</th>\n",
              "      <td>5</td>\n",
              "      <td>0</td>\n",
              "      <td>factsguide: society now    #motivation</td>\n",
              "    </tr>\n",
              "  </tbody>\n",
              "</table>\n",
              "</div>\n",
              "      <button class=\"colab-df-convert\" onclick=\"convertToInteractive('df-e5980544-f4e4-405c-8783-9b41b2127cbb')\"\n",
              "              title=\"Convert this dataframe to an interactive table.\"\n",
              "              style=\"display:none;\">\n",
              "        \n",
              "  <svg xmlns=\"http://www.w3.org/2000/svg\" height=\"24px\"viewBox=\"0 0 24 24\"\n",
              "       width=\"24px\">\n",
              "    <path d=\"M0 0h24v24H0V0z\" fill=\"none\"/>\n",
              "    <path d=\"M18.56 5.44l.94 2.06.94-2.06 2.06-.94-2.06-.94-.94-2.06-.94 2.06-2.06.94zm-11 1L8.5 8.5l.94-2.06 2.06-.94-2.06-.94L8.5 2.5l-.94 2.06-2.06.94zm10 10l.94 2.06.94-2.06 2.06-.94-2.06-.94-.94-2.06-.94 2.06-2.06.94z\"/><path d=\"M17.41 7.96l-1.37-1.37c-.4-.4-.92-.59-1.43-.59-.52 0-1.04.2-1.43.59L10.3 9.45l-7.72 7.72c-.78.78-.78 2.05 0 2.83L4 21.41c.39.39.9.59 1.41.59.51 0 1.02-.2 1.41-.59l7.78-7.78 2.81-2.81c.8-.78.8-2.07 0-2.86zM5.41 20L4 18.59l7.72-7.72 1.47 1.35L5.41 20z\"/>\n",
              "  </svg>\n",
              "      </button>\n",
              "      \n",
              "  <style>\n",
              "    .colab-df-container {\n",
              "      display:flex;\n",
              "      flex-wrap:wrap;\n",
              "      gap: 12px;\n",
              "    }\n",
              "\n",
              "    .colab-df-convert {\n",
              "      background-color: #E8F0FE;\n",
              "      border: none;\n",
              "      border-radius: 50%;\n",
              "      cursor: pointer;\n",
              "      display: none;\n",
              "      fill: #1967D2;\n",
              "      height: 32px;\n",
              "      padding: 0 0 0 0;\n",
              "      width: 32px;\n",
              "    }\n",
              "\n",
              "    .colab-df-convert:hover {\n",
              "      background-color: #E2EBFA;\n",
              "      box-shadow: 0px 1px 2px rgba(60, 64, 67, 0.3), 0px 1px 3px 1px rgba(60, 64, 67, 0.15);\n",
              "      fill: #174EA6;\n",
              "    }\n",
              "\n",
              "    [theme=dark] .colab-df-convert {\n",
              "      background-color: #3B4455;\n",
              "      fill: #D2E3FC;\n",
              "    }\n",
              "\n",
              "    [theme=dark] .colab-df-convert:hover {\n",
              "      background-color: #434B5C;\n",
              "      box-shadow: 0px 1px 3px 1px rgba(0, 0, 0, 0.15);\n",
              "      filter: drop-shadow(0px 1px 2px rgba(0, 0, 0, 0.3));\n",
              "      fill: #FFFFFF;\n",
              "    }\n",
              "  </style>\n",
              "\n",
              "      <script>\n",
              "        const buttonEl =\n",
              "          document.querySelector('#df-e5980544-f4e4-405c-8783-9b41b2127cbb button.colab-df-convert');\n",
              "        buttonEl.style.display =\n",
              "          google.colab.kernel.accessAllowed ? 'block' : 'none';\n",
              "\n",
              "        async function convertToInteractive(key) {\n",
              "          const element = document.querySelector('#df-e5980544-f4e4-405c-8783-9b41b2127cbb');\n",
              "          const dataTable =\n",
              "            await google.colab.kernel.invokeFunction('convertToInteractive',\n",
              "                                                     [key], {});\n",
              "          if (!dataTable) return;\n",
              "\n",
              "          const docLinkHtml = 'Like what you see? Visit the ' +\n",
              "            '<a target=\"_blank\" href=https://colab.research.google.com/notebooks/data_table.ipynb>data table notebook</a>'\n",
              "            + ' to learn more about interactive tables.';\n",
              "          element.innerHTML = '';\n",
              "          dataTable['output_type'] = 'display_data';\n",
              "          await google.colab.output.renderOutput(dataTable, element);\n",
              "          const docLink = document.createElement('div');\n",
              "          docLink.innerHTML = docLinkHtml;\n",
              "          element.appendChild(docLink);\n",
              "        }\n",
              "      </script>\n",
              "    </div>\n",
              "  </div>\n",
              "  "
            ],
            "text/plain": [
              "   id  label                                              tweet\n",
              "0   1      0   @user when a father is dysfunctional and is s...\n",
              "1   2      0  @user @user thanks for #lyft credit i can't us...\n",
              "2   3      0                                bihday your majesty\n",
              "3   4      0  #model   i love u take with u all the time in ...\n",
              "4   5      0             factsguide: society now    #motivation"
            ]
          },
          "metadata": {},
          "execution_count": 4
        }
      ]
    },
    {
      "cell_type": "code",
      "source": [
        "#train data description\n",
        "train.describe()"
      ],
      "metadata": {
        "colab": {
          "base_uri": "https://localhost:8080/",
          "height": 300
        },
        "id": "WkKdKC_QjQmX",
        "outputId": "c9444e8d-05e1-4601-fb93-bcb318b64907"
      },
      "id": "WkKdKC_QjQmX",
      "execution_count": 5,
      "outputs": [
        {
          "output_type": "execute_result",
          "data": {
            "text/html": [
              "\n",
              "  <div id=\"df-b15a5764-2690-4caa-9483-d6266de150c4\">\n",
              "    <div class=\"colab-df-container\">\n",
              "      <div>\n",
              "<style scoped>\n",
              "    .dataframe tbody tr th:only-of-type {\n",
              "        vertical-align: middle;\n",
              "    }\n",
              "\n",
              "    .dataframe tbody tr th {\n",
              "        vertical-align: top;\n",
              "    }\n",
              "\n",
              "    .dataframe thead th {\n",
              "        text-align: right;\n",
              "    }\n",
              "</style>\n",
              "<table border=\"1\" class=\"dataframe\">\n",
              "  <thead>\n",
              "    <tr style=\"text-align: right;\">\n",
              "      <th></th>\n",
              "      <th>id</th>\n",
              "      <th>label</th>\n",
              "    </tr>\n",
              "  </thead>\n",
              "  <tbody>\n",
              "    <tr>\n",
              "      <th>count</th>\n",
              "      <td>31962.000000</td>\n",
              "      <td>31962.000000</td>\n",
              "    </tr>\n",
              "    <tr>\n",
              "      <th>mean</th>\n",
              "      <td>15981.500000</td>\n",
              "      <td>0.070146</td>\n",
              "    </tr>\n",
              "    <tr>\n",
              "      <th>std</th>\n",
              "      <td>9226.778988</td>\n",
              "      <td>0.255397</td>\n",
              "    </tr>\n",
              "    <tr>\n",
              "      <th>min</th>\n",
              "      <td>1.000000</td>\n",
              "      <td>0.000000</td>\n",
              "    </tr>\n",
              "    <tr>\n",
              "      <th>25%</th>\n",
              "      <td>7991.250000</td>\n",
              "      <td>0.000000</td>\n",
              "    </tr>\n",
              "    <tr>\n",
              "      <th>50%</th>\n",
              "      <td>15981.500000</td>\n",
              "      <td>0.000000</td>\n",
              "    </tr>\n",
              "    <tr>\n",
              "      <th>75%</th>\n",
              "      <td>23971.750000</td>\n",
              "      <td>0.000000</td>\n",
              "    </tr>\n",
              "    <tr>\n",
              "      <th>max</th>\n",
              "      <td>31962.000000</td>\n",
              "      <td>1.000000</td>\n",
              "    </tr>\n",
              "  </tbody>\n",
              "</table>\n",
              "</div>\n",
              "      <button class=\"colab-df-convert\" onclick=\"convertToInteractive('df-b15a5764-2690-4caa-9483-d6266de150c4')\"\n",
              "              title=\"Convert this dataframe to an interactive table.\"\n",
              "              style=\"display:none;\">\n",
              "        \n",
              "  <svg xmlns=\"http://www.w3.org/2000/svg\" height=\"24px\"viewBox=\"0 0 24 24\"\n",
              "       width=\"24px\">\n",
              "    <path d=\"M0 0h24v24H0V0z\" fill=\"none\"/>\n",
              "    <path d=\"M18.56 5.44l.94 2.06.94-2.06 2.06-.94-2.06-.94-.94-2.06-.94 2.06-2.06.94zm-11 1L8.5 8.5l.94-2.06 2.06-.94-2.06-.94L8.5 2.5l-.94 2.06-2.06.94zm10 10l.94 2.06.94-2.06 2.06-.94-2.06-.94-.94-2.06-.94 2.06-2.06.94z\"/><path d=\"M17.41 7.96l-1.37-1.37c-.4-.4-.92-.59-1.43-.59-.52 0-1.04.2-1.43.59L10.3 9.45l-7.72 7.72c-.78.78-.78 2.05 0 2.83L4 21.41c.39.39.9.59 1.41.59.51 0 1.02-.2 1.41-.59l7.78-7.78 2.81-2.81c.8-.78.8-2.07 0-2.86zM5.41 20L4 18.59l7.72-7.72 1.47 1.35L5.41 20z\"/>\n",
              "  </svg>\n",
              "      </button>\n",
              "      \n",
              "  <style>\n",
              "    .colab-df-container {\n",
              "      display:flex;\n",
              "      flex-wrap:wrap;\n",
              "      gap: 12px;\n",
              "    }\n",
              "\n",
              "    .colab-df-convert {\n",
              "      background-color: #E8F0FE;\n",
              "      border: none;\n",
              "      border-radius: 50%;\n",
              "      cursor: pointer;\n",
              "      display: none;\n",
              "      fill: #1967D2;\n",
              "      height: 32px;\n",
              "      padding: 0 0 0 0;\n",
              "      width: 32px;\n",
              "    }\n",
              "\n",
              "    .colab-df-convert:hover {\n",
              "      background-color: #E2EBFA;\n",
              "      box-shadow: 0px 1px 2px rgba(60, 64, 67, 0.3), 0px 1px 3px 1px rgba(60, 64, 67, 0.15);\n",
              "      fill: #174EA6;\n",
              "    }\n",
              "\n",
              "    [theme=dark] .colab-df-convert {\n",
              "      background-color: #3B4455;\n",
              "      fill: #D2E3FC;\n",
              "    }\n",
              "\n",
              "    [theme=dark] .colab-df-convert:hover {\n",
              "      background-color: #434B5C;\n",
              "      box-shadow: 0px 1px 3px 1px rgba(0, 0, 0, 0.15);\n",
              "      filter: drop-shadow(0px 1px 2px rgba(0, 0, 0, 0.3));\n",
              "      fill: #FFFFFF;\n",
              "    }\n",
              "  </style>\n",
              "\n",
              "      <script>\n",
              "        const buttonEl =\n",
              "          document.querySelector('#df-b15a5764-2690-4caa-9483-d6266de150c4 button.colab-df-convert');\n",
              "        buttonEl.style.display =\n",
              "          google.colab.kernel.accessAllowed ? 'block' : 'none';\n",
              "\n",
              "        async function convertToInteractive(key) {\n",
              "          const element = document.querySelector('#df-b15a5764-2690-4caa-9483-d6266de150c4');\n",
              "          const dataTable =\n",
              "            await google.colab.kernel.invokeFunction('convertToInteractive',\n",
              "                                                     [key], {});\n",
              "          if (!dataTable) return;\n",
              "\n",
              "          const docLinkHtml = 'Like what you see? Visit the ' +\n",
              "            '<a target=\"_blank\" href=https://colab.research.google.com/notebooks/data_table.ipynb>data table notebook</a>'\n",
              "            + ' to learn more about interactive tables.';\n",
              "          element.innerHTML = '';\n",
              "          dataTable['output_type'] = 'display_data';\n",
              "          await google.colab.output.renderOutput(dataTable, element);\n",
              "          const docLink = document.createElement('div');\n",
              "          docLink.innerHTML = docLinkHtml;\n",
              "          element.appendChild(docLink);\n",
              "        }\n",
              "      </script>\n",
              "    </div>\n",
              "  </div>\n",
              "  "
            ],
            "text/plain": [
              "                 id         label\n",
              "count  31962.000000  31962.000000\n",
              "mean   15981.500000      0.070146\n",
              "std     9226.778988      0.255397\n",
              "min        1.000000      0.000000\n",
              "25%     7991.250000      0.000000\n",
              "50%    15981.500000      0.000000\n",
              "75%    23971.750000      0.000000\n",
              "max    31962.000000      1.000000"
            ]
          },
          "metadata": {},
          "execution_count": 5
        }
      ]
    },
    {
      "cell_type": "code",
      "source": [
        "sns.countplot(x = train['label'])"
      ],
      "metadata": {
        "id": "elaPRrFZfBrq",
        "outputId": "48011398-cf92-4fcf-bc78-e94fb1db9e6d",
        "colab": {
          "base_uri": "https://localhost:8080/",
          "height": 296
        }
      },
      "id": "elaPRrFZfBrq",
      "execution_count": 6,
      "outputs": [
        {
          "output_type": "execute_result",
          "data": {
            "text/plain": [
              "<matplotlib.axes._subplots.AxesSubplot at 0x7fb2c18a7b10>"
            ]
          },
          "metadata": {},
          "execution_count": 6
        },
        {
          "output_type": "display_data",
          "data": {
            "image/png": "[encoded data removed]",
            "text/plain": [
              "<Figure size 432x288 with 1 Axes>"
            ]
          },
          "metadata": {
            "needs_background": "light"
          }
        }
      ]
    },
    {
      "cell_type": "code",
      "source": [
        "train.groupby('label').count()"
      ],
      "metadata": {
        "id": "xuXu36CgfLDy",
        "outputId": "b599a6c8-c678-4cf8-fbec-895ff65138b4",
        "colab": {
          "base_uri": "https://localhost:8080/",
          "height": 143
        }
      },
      "id": "xuXu36CgfLDy",
      "execution_count": 7,
      "outputs": [
        {
          "output_type": "execute_result",
          "data": {
            "text/html": [
              "\n",
              "  <div id=\"df-955c5f97-bc04-4f5b-8de3-1a72616a1eaa\">\n",
              "    <div class=\"colab-df-container\">\n",
              "      <div>\n",
              "<style scoped>\n",
              "    .dataframe tbody tr th:only-of-type {\n",
              "        vertical-align: middle;\n",
              "    }\n",
              "\n",
              "    .dataframe tbody tr th {\n",
              "        vertical-align: top;\n",
              "    }\n",
              "\n",
              "    .dataframe thead th {\n",
              "        text-align: right;\n",
              "    }\n",
              "</style>\n",
              "<table border=\"1\" class=\"dataframe\">\n",
              "  <thead>\n",
              "    <tr style=\"text-align: right;\">\n",
              "      <th></th>\n",
              "      <th>id</th>\n",
              "      <th>tweet</th>\n",
              "    </tr>\n",
              "    <tr>\n",
              "      <th>label</th>\n",
              "      <th></th>\n",
              "      <th></th>\n",
              "    </tr>\n",
              "  </thead>\n",
              "  <tbody>\n",
              "    <tr>\n",
              "      <th>0</th>\n",
              "      <td>29720</td>\n",
              "      <td>29720</td>\n",
              "    </tr>\n",
              "    <tr>\n",
              "      <th>1</th>\n",
              "      <td>2242</td>\n",
              "      <td>2242</td>\n",
              "    </tr>\n",
              "  </tbody>\n",
              "</table>\n",
              "</div>\n",
              "      <button class=\"colab-df-convert\" onclick=\"convertToInteractive('df-955c5f97-bc04-4f5b-8de3-1a72616a1eaa')\"\n",
              "              title=\"Convert this dataframe to an interactive table.\"\n",
              "              style=\"display:none;\">\n",
              "        \n",
              "  <svg xmlns=\"http://www.w3.org/2000/svg\" height=\"24px\"viewBox=\"0 0 24 24\"\n",
              "       width=\"24px\">\n",
              "    <path d=\"M0 0h24v24H0V0z\" fill=\"none\"/>\n",
              "    <path d=\"M18.56 5.44l.94 2.06.94-2.06 2.06-.94-2.06-.94-.94-2.06-.94 2.06-2.06.94zm-11 1L8.5 8.5l.94-2.06 2.06-.94-2.06-.94L8.5 2.5l-.94 2.06-2.06.94zm10 10l.94 2.06.94-2.06 2.06-.94-2.06-.94-.94-2.06-.94 2.06-2.06.94z\"/><path d=\"M17.41 7.96l-1.37-1.37c-.4-.4-.92-.59-1.43-.59-.52 0-1.04.2-1.43.59L10.3 9.45l-7.72 7.72c-.78.78-.78 2.05 0 2.83L4 21.41c.39.39.9.59 1.41.59.51 0 1.02-.2 1.41-.59l7.78-7.78 2.81-2.81c.8-.78.8-2.07 0-2.86zM5.41 20L4 18.59l7.72-7.72 1.47 1.35L5.41 20z\"/>\n",
              "  </svg>\n",
              "      </button>\n",
              "      \n",
              "  <style>\n",
              "    .colab-df-container {\n",
              "      display:flex;\n",
              "      flex-wrap:wrap;\n",
              "      gap: 12px;\n",
              "    }\n",
              "\n",
              "    .colab-df-convert {\n",
              "      background-color: #E8F0FE;\n",
              "      border: none;\n",
              "      border-radius: 50%;\n",
              "      cursor: pointer;\n",
              "      display: none;\n",
              "      fill: #1967D2;\n",
              "      height: 32px;\n",
              "      padding: 0 0 0 0;\n",
              "      width: 32px;\n",
              "    }\n",
              "\n",
              "    .colab-df-convert:hover {\n",
              "      background-color: #E2EBFA;\n",
              "      box-shadow: 0px 1px 2px rgba(60, 64, 67, 0.3), 0px 1px 3px 1px rgba(60, 64, 67, 0.15);\n",
              "      fill: #174EA6;\n",
              "    }\n",
              "\n",
              "    [theme=dark] .colab-df-convert {\n",
              "      background-color: #3B4455;\n",
              "      fill: #D2E3FC;\n",
              "    }\n",
              "\n",
              "    [theme=dark] .colab-df-convert:hover {\n",
              "      background-color: #434B5C;\n",
              "      box-shadow: 0px 1px 3px 1px rgba(0, 0, 0, 0.15);\n",
              "      filter: drop-shadow(0px 1px 2px rgba(0, 0, 0, 0.3));\n",
              "      fill: #FFFFFF;\n",
              "    }\n",
              "  </style>\n",
              "\n",
              "      <script>\n",
              "        const buttonEl =\n",
              "          document.querySelector('#df-955c5f97-bc04-4f5b-8de3-1a72616a1eaa button.colab-df-convert');\n",
              "        buttonEl.style.display =\n",
              "          google.colab.kernel.accessAllowed ? 'block' : 'none';\n",
              "\n",
              "        async function convertToInteractive(key) {\n",
              "          const element = document.querySelector('#df-955c5f97-bc04-4f5b-8de3-1a72616a1eaa');\n",
              "          const dataTable =\n",
              "            await google.colab.kernel.invokeFunction('convertToInteractive',\n",
              "                                                     [key], {});\n",
              "          if (!dataTable) return;\n",
              "\n",
              "          const docLinkHtml = 'Like what you see? Visit the ' +\n",
              "            '<a target=\"_blank\" href=https://colab.research.google.com/notebooks/data_table.ipynb>data table notebook</a>'\n",
              "            + ' to learn more about interactive tables.';\n",
              "          element.innerHTML = '';\n",
              "          dataTable['output_type'] = 'display_data';\n",
              "          await google.colab.output.renderOutput(dataTable, element);\n",
              "          const docLink = document.createElement('div');\n",
              "          docLink.innerHTML = docLinkHtml;\n",
              "          element.appendChild(docLink);\n",
              "        }\n",
              "      </script>\n",
              "    </div>\n",
              "  </div>\n",
              "  "
            ],
            "text/plain": [
              "          id  tweet\n",
              "label              \n",
              "0      29720  29720\n",
              "1       2242   2242"
            ]
          },
          "metadata": {},
          "execution_count": 7
        }
      ]
    },
    {
      "cell_type": "code",
      "source": [
        "plt.figure(figsize=(5, 5))\n",
        "sns.heatmap(train.isnull(), yticklabels=False) # Heatmap for visualising null values"
      ],
      "metadata": {
        "id": "OQHRqJIgfat5",
        "outputId": "f3fedccf-dde4-4cef-cecc-a3206c0a8ee4",
        "colab": {
          "base_uri": "https://localhost:8080/",
          "height": 342
        }
      },
      "id": "OQHRqJIgfat5",
      "execution_count": 8,
      "outputs": [
        {
          "output_type": "execute_result",
          "data": {
            "text/plain": [
              "<matplotlib.axes._subplots.AxesSubplot at 0x7fb2bfe6d750>"
            ]
          },
          "metadata": {},
          "execution_count": 8
        },
        {
          "output_type": "display_data",
          "data": {
            "image/png": "[encoded data removed]",
            "text/plain": [
              "<Figure size 360x360 with 2 Axes>"
            ]
          },
          "metadata": {
            "needs_background": "light"
          }
        }
      ]
    },
    {
      "cell_type": "markdown",
      "source": [
        "## **Data pre-processing**\n",
        "### Drop all other columns except “tweet” and “label”"
      ],
      "metadata": {
        "id": "-9x187N3xzna"
      },
      "id": "-9x187N3xzna"
    },
    {
      "cell_type": "code",
      "source": [
        "trimmed_data = train.copy(deep=True)\n",
        "for col in train.columns:\n",
        "  if (col != 'tweet' and col != 'label'):\n",
        "    trimmed_data.drop([col], axis=1, inplace=True)\n",
        "trimmed_data.shape\n",
        "trimmed_data.head()"
      ],
      "metadata": {
        "colab": {
          "base_uri": "https://localhost:8080/",
          "height": 206
        },
        "id": "6nnkiPyIox0v",
        "outputId": "6142acde-f661-4f7d-f94c-ea7251040b71"
      },
      "id": "6nnkiPyIox0v",
      "execution_count": 9,
      "outputs": [
        {
          "output_type": "execute_result",
          "data": {
            "text/html": [
              "\n",
              "  <div id=\"df-5755e899-a629-4939-9019-df7bcdc1ef5b\">\n",
              "    <div class=\"colab-df-container\">\n",
              "      <div>\n",
              "<style scoped>\n",
              "    .dataframe tbody tr th:only-of-type {\n",
              "        vertical-align: middle;\n",
              "    }\n",
              "\n",
              "    .dataframe tbody tr th {\n",
              "        vertical-align: top;\n",
              "    }\n",
              "\n",
              "    .dataframe thead th {\n",
              "        text-align: right;\n",
              "    }\n",
              "</style>\n",
              "<table border=\"1\" class=\"dataframe\">\n",
              "  <thead>\n",
              "    <tr style=\"text-align: right;\">\n",
              "      <th></th>\n",
              "      <th>label</th>\n",
              "      <th>tweet</th>\n",
              "    </tr>\n",
              "  </thead>\n",
              "  <tbody>\n",
              "    <tr>\n",
              "      <th>0</th>\n",
              "      <td>0</td>\n",
              "      <td>@user when a father is dysfunctional and is s...</td>\n",
              "    </tr>\n",
              "    <tr>\n",
              "      <th>1</th>\n",
              "      <td>0</td>\n",
              "      <td>@user @user thanks for #lyft credit i can't us...</td>\n",
              "    </tr>\n",
              "    <tr>\n",
              "      <th>2</th>\n",
              "      <td>0</td>\n",
              "      <td>bihday your majesty</td>\n",
              "    </tr>\n",
              "    <tr>\n",
              "      <th>3</th>\n",
              "      <td>0</td>\n",
              "      <td>#model   i love u take with u all the time in ...</td>\n",
              "    </tr>\n",
              "    <tr>\n",
              "      <th>4</th>\n",
              "      <td>0</td>\n",
              "      <td>factsguide: society now    #motivation</td>\n",
              "    </tr>\n",
              "  </tbody>\n",
              "</table>\n",
              "</div>\n",
              "      <button class=\"colab-df-convert\" onclick=\"convertToInteractive('df-5755e899-a629-4939-9019-df7bcdc1ef5b')\"\n",
              "              title=\"Convert this dataframe to an interactive table.\"\n",
              "              style=\"display:none;\">\n",
              "        \n",
              "  <svg xmlns=\"http://www.w3.org/2000/svg\" height=\"24px\"viewBox=\"0 0 24 24\"\n",
              "       width=\"24px\">\n",
              "    <path d=\"M0 0h24v24H0V0z\" fill=\"none\"/>\n",
              "    <path d=\"M18.56 5.44l.94 2.06.94-2.06 2.06-.94-2.06-.94-.94-2.06-.94 2.06-2.06.94zm-11 1L8.5 8.5l.94-2.06 2.06-.94-2.06-.94L8.5 2.5l-.94 2.06-2.06.94zm10 10l.94 2.06.94-2.06 2.06-.94-2.06-.94-.94-2.06-.94 2.06-2.06.94z\"/><path d=\"M17.41 7.96l-1.37-1.37c-.4-.4-.92-.59-1.43-.59-.52 0-1.04.2-1.43.59L10.3 9.45l-7.72 7.72c-.78.78-.78 2.05 0 2.83L4 21.41c.39.39.9.59 1.41.59.51 0 1.02-.2 1.41-.59l7.78-7.78 2.81-2.81c.8-.78.8-2.07 0-2.86zM5.41 20L4 18.59l7.72-7.72 1.47 1.35L5.41 20z\"/>\n",
              "  </svg>\n",
              "      </button>\n",
              "      \n",
              "  <style>\n",
              "    .colab-df-container {\n",
              "      display:flex;\n",
              "      flex-wrap:wrap;\n",
              "      gap: 12px;\n",
              "    }\n",
              "\n",
              "    .colab-df-convert {\n",
              "      background-color: #E8F0FE;\n",
              "      border: none;\n",
              "      border-radius: 50%;\n",
              "      cursor: pointer;\n",
              "      display: none;\n",
              "      fill: #1967D2;\n",
              "      height: 32px;\n",
              "      padding: 0 0 0 0;\n",
              "      width: 32px;\n",
              "    }\n",
              "\n",
              "    .colab-df-convert:hover {\n",
              "      background-color: #E2EBFA;\n",
              "      box-shadow: 0px 1px 2px rgba(60, 64, 67, 0.3), 0px 1px 3px 1px rgba(60, 64, 67, 0.15);\n",
              "      fill: #174EA6;\n",
              "    }\n",
              "\n",
              "    [theme=dark] .colab-df-convert {\n",
              "      background-color: #3B4455;\n",
              "      fill: #D2E3FC;\n",
              "    }\n",
              "\n",
              "    [theme=dark] .colab-df-convert:hover {\n",
              "      background-color: #434B5C;\n",
              "      box-shadow: 0px 1px 3px 1px rgba(0, 0, 0, 0.15);\n",
              "      filter: drop-shadow(0px 1px 2px rgba(0, 0, 0, 0.3));\n",
              "      fill: #FFFFFF;\n",
              "    }\n",
              "  </style>\n",
              "\n",
              "      <script>\n",
              "        const buttonEl =\n",
              "          document.querySelector('#df-5755e899-a629-4939-9019-df7bcdc1ef5b button.colab-df-convert');\n",
              "        buttonEl.style.display =\n",
              "          google.colab.kernel.accessAllowed ? 'block' : 'none';\n",
              "\n",
              "        async function convertToInteractive(key) {\n",
              "          const element = document.querySelector('#df-5755e899-a629-4939-9019-df7bcdc1ef5b');\n",
              "          const dataTable =\n",
              "            await google.colab.kernel.invokeFunction('convertToInteractive',\n",
              "                                                     [key], {});\n",
              "          if (!dataTable) return;\n",
              "\n",
              "          const docLinkHtml = 'Like what you see? Visit the ' +\n",
              "            '<a target=\"_blank\" href=https://colab.research.google.com/notebooks/data_table.ipynb>data table notebook</a>'\n",
              "            + ' to learn more about interactive tables.';\n",
              "          element.innerHTML = '';\n",
              "          dataTable['output_type'] = 'display_data';\n",
              "          await google.colab.output.renderOutput(dataTable, element);\n",
              "          const docLink = document.createElement('div');\n",
              "          docLink.innerHTML = docLinkHtml;\n",
              "          element.appendChild(docLink);\n",
              "        }\n",
              "      </script>\n",
              "    </div>\n",
              "  </div>\n",
              "  "
            ],
            "text/plain": [
              "   label                                              tweet\n",
              "0      0   @user when a father is dysfunctional and is s...\n",
              "1      0  @user @user thanks for #lyft credit i can't us...\n",
              "2      0                                bihday your majesty\n",
              "3      0  #model   i love u take with u all the time in ...\n",
              "4      0             factsguide: society now    #motivation"
            ]
          },
          "metadata": {},
          "execution_count": 9
        }
      ]
    },
    {
      "cell_type": "code",
      "source": [
        "def top_words(df_tmp, num_top = 20):    \n",
        "    words = []\n",
        "    top_words_df = pd.Series([], dtype= 'object') # creating empty data series\n",
        "        \n",
        "    for row in df_tmp.iterrows(): # iterating through rows\n",
        "        words.append(row[1][1].split())\n",
        "        \n",
        "    words = list(np.concatenate(words).flat) # list containg all words\n",
        "    top_words_df = pd.DataFrame(words).value_counts().rename_axis('words')[:num_top].reset_index(name = 'count')\n",
        "    return top_words_df"
      ],
      "metadata": {
        "id": "gFdqIy1Ihif5"
      },
      "id": "gFdqIy1Ihif5",
      "execution_count": 10,
      "outputs": []
    },
    {
      "cell_type": "code",
      "source": [
        "train_data_neutral = trimmed_data.loc[trimmed_data['label'] == 0]\n",
        "train_data_hate_speech = trimmed_data.loc[trimmed_data['label'] == 1]"
      ],
      "metadata": {
        "id": "LiFyetpuzKya"
      },
      "id": "LiFyetpuzKya",
      "execution_count": 11,
      "outputs": []
    },
    {
      "cell_type": "code",
      "source": [
        "train_data_neutral.head()"
      ],
      "metadata": {
        "id": "7MLcUPFNz5_Q",
        "outputId": "d928f26c-90ad-4165-c583-63991822a5d1",
        "colab": {
          "base_uri": "https://localhost:8080/",
          "height": 206
        }
      },
      "id": "7MLcUPFNz5_Q",
      "execution_count": 12,
      "outputs": [
        {
          "output_type": "execute_result",
          "data": {
            "text/html": [
              "\n",
              "  <div id=\"df-bf6ee8fe-5a70-4660-878a-557a6b08290d\">\n",
              "    <div class=\"colab-df-container\">\n",
              "      <div>\n",
              "<style scoped>\n",
              "    .dataframe tbody tr th:only-of-type {\n",
              "        vertical-align: middle;\n",
              "    }\n",
              "\n",
              "    .dataframe tbody tr th {\n",
              "        vertical-align: top;\n",
              "    }\n",
              "\n",
              "    .dataframe thead th {\n",
              "        text-align: right;\n",
              "    }\n",
              "</style>\n",
              "<table border=\"1\" class=\"dataframe\">\n",
              "  <thead>\n",
              "    <tr style=\"text-align: right;\">\n",
              "      <th></th>\n",
              "      <th>label</th>\n",
              "      <th>tweet</th>\n",
              "    </tr>\n",
              "  </thead>\n",
              "  <tbody>\n",
              "    <tr>\n",
              "      <th>0</th>\n",
              "      <td>0</td>\n",
              "      <td>@user when a father is dysfunctional and is s...</td>\n",
              "    </tr>\n",
              "    <tr>\n",
              "      <th>1</th>\n",
              "      <td>0</td>\n",
              "      <td>@user @user thanks for #lyft credit i can't us...</td>\n",
              "    </tr>\n",
              "    <tr>\n",
              "      <th>2</th>\n",
              "      <td>0</td>\n",
              "      <td>bihday your majesty</td>\n",
              "    </tr>\n",
              "    <tr>\n",
              "      <th>3</th>\n",
              "      <td>0</td>\n",
              "      <td>#model   i love u take with u all the time in ...</td>\n",
              "    </tr>\n",
              "    <tr>\n",
              "      <th>4</th>\n",
              "      <td>0</td>\n",
              "      <td>factsguide: society now    #motivation</td>\n",
              "    </tr>\n",
              "  </tbody>\n",
              "</table>\n",
              "</div>\n",
              "      <button class=\"colab-df-convert\" onclick=\"convertToInteractive('df-bf6ee8fe-5a70-4660-878a-557a6b08290d')\"\n",
              "              title=\"Convert this dataframe to an interactive table.\"\n",
              "              style=\"display:none;\">\n",
              "        \n",
              "  <svg xmlns=\"http://www.w3.org/2000/svg\" height=\"24px\"viewBox=\"0 0 24 24\"\n",
              "       width=\"24px\">\n",
              "    <path d=\"M0 0h24v24H0V0z\" fill=\"none\"/>\n",
              "    <path d=\"M18.56 5.44l.94 2.06.94-2.06 2.06-.94-2.06-.94-.94-2.06-.94 2.06-2.06.94zm-11 1L8.5 8.5l.94-2.06 2.06-.94-2.06-.94L8.5 2.5l-.94 2.06-2.06.94zm10 10l.94 2.06.94-2.06 2.06-.94-2.06-.94-.94-2.06-.94 2.06-2.06.94z\"/><path d=\"M17.41 7.96l-1.37-1.37c-.4-.4-.92-.59-1.43-.59-.52 0-1.04.2-1.43.59L10.3 9.45l-7.72 7.72c-.78.78-.78 2.05 0 2.83L4 21.41c.39.39.9.59 1.41.59.51 0 1.02-.2 1.41-.59l7.78-7.78 2.81-2.81c.8-.78.8-2.07 0-2.86zM5.41 20L4 18.59l7.72-7.72 1.47 1.35L5.41 20z\"/>\n",
              "  </svg>\n",
              "      </button>\n",
              "      \n",
              "  <style>\n",
              "    .colab-df-container {\n",
              "      display:flex;\n",
              "      flex-wrap:wrap;\n",
              "      gap: 12px;\n",
              "    }\n",
              "\n",
              "    .colab-df-convert {\n",
              "      background-color: #E8F0FE;\n",
              "      border: none;\n",
              "      border-radius: 50%;\n",
              "      cursor: pointer;\n",
              "      display: none;\n",
              "      fill: #1967D2;\n",
              "      height: 32px;\n",
              "      padding: 0 0 0 0;\n",
              "      width: 32px;\n",
              "    }\n",
              "\n",
              "    .colab-df-convert:hover {\n",
              "      background-color: #E2EBFA;\n",
              "      box-shadow: 0px 1px 2px rgba(60, 64, 67, 0.3), 0px 1px 3px 1px rgba(60, 64, 67, 0.15);\n",
              "      fill: #174EA6;\n",
              "    }\n",
              "\n",
              "    [theme=dark] .colab-df-convert {\n",
              "      background-color: #3B4455;\n",
              "      fill: #D2E3FC;\n",
              "    }\n",
              "\n",
              "    [theme=dark] .colab-df-convert:hover {\n",
              "      background-color: #434B5C;\n",
              "      box-shadow: 0px 1px 3px 1px rgba(0, 0, 0, 0.15);\n",
              "      filter: drop-shadow(0px 1px 2px rgba(0, 0, 0, 0.3));\n",
              "      fill: #FFFFFF;\n",
              "    }\n",
              "  </style>\n",
              "\n",
              "      <script>\n",
              "        const buttonEl =\n",
              "          document.querySelector('#df-bf6ee8fe-5a70-4660-878a-557a6b08290d button.colab-df-convert');\n",
              "        buttonEl.style.display =\n",
              "          google.colab.kernel.accessAllowed ? 'block' : 'none';\n",
              "\n",
              "        async function convertToInteractive(key) {\n",
              "          const element = document.querySelector('#df-bf6ee8fe-5a70-4660-878a-557a6b08290d');\n",
              "          const dataTable =\n",
              "            await google.colab.kernel.invokeFunction('convertToInteractive',\n",
              "                                                     [key], {});\n",
              "          if (!dataTable) return;\n",
              "\n",
              "          const docLinkHtml = 'Like what you see? Visit the ' +\n",
              "            '<a target=\"_blank\" href=https://colab.research.google.com/notebooks/data_table.ipynb>data table notebook</a>'\n",
              "            + ' to learn more about interactive tables.';\n",
              "          element.innerHTML = '';\n",
              "          dataTable['output_type'] = 'display_data';\n",
              "          await google.colab.output.renderOutput(dataTable, element);\n",
              "          const docLink = document.createElement('div');\n",
              "          docLink.innerHTML = docLinkHtml;\n",
              "          element.appendChild(docLink);\n",
              "        }\n",
              "      </script>\n",
              "    </div>\n",
              "  </div>\n",
              "  "
            ],
            "text/plain": [
              "   label                                              tweet\n",
              "0      0   @user when a father is dysfunctional and is s...\n",
              "1      0  @user @user thanks for #lyft credit i can't us...\n",
              "2      0                                bihday your majesty\n",
              "3      0  #model   i love u take with u all the time in ...\n",
              "4      0             factsguide: society now    #motivation"
            ]
          },
          "metadata": {},
          "execution_count": 12
        }
      ]
    },
    {
      "cell_type": "markdown",
      "source": [
        "### Frequent words before pre-processing"
      ],
      "metadata": {
        "id": "EuYKj4bt05CD"
      },
      "id": "EuYKj4bt05CD"
    },
    {
      "cell_type": "code",
      "source": [
        "neutral_train_top = top_words(train_data_neutral)\n",
        "neutral_train_top.head(10).style.background_gradient(cmap='Reds')"
      ],
      "metadata": {
        "id": "9EifvmRrzK6Q",
        "outputId": "fdd16fbd-ccd1-4e10-e035-66c0a613f92a",
        "colab": {
          "base_uri": "https://localhost:8080/",
          "height": 363
        }
      },
      "id": "9EifvmRrzK6Q",
      "execution_count": 13,
      "outputs": [
        {
          "output_type": "execute_result",
          "data": {
            "text/html": [
              "<style  type=\"text/css\" >\n",
              "#T_e5c4c09a_7d57_11ec_b1f3_0242ac1c0002row0_col1{\n",
              "            background-color:  #67000d;\n",
              "            color:  #f1f1f1;\n",
              "        }#T_e5c4c09a_7d57_11ec_b1f3_0242ac1c0002row1_col1{\n",
              "            background-color:  #fb7353;\n",
              "            color:  #000000;\n",
              "        }#T_e5c4c09a_7d57_11ec_b1f3_0242ac1c0002row2_col1{\n",
              "            background-color:  #fb7555;\n",
              "            color:  #000000;\n",
              "        }#T_e5c4c09a_7d57_11ec_b1f3_0242ac1c0002row3_col1{\n",
              "            background-color:  #fdd4c2;\n",
              "            color:  #000000;\n",
              "        }#T_e5c4c09a_7d57_11ec_b1f3_0242ac1c0002row4_col1{\n",
              "            background-color:  #fed9c9;\n",
              "            color:  #000000;\n",
              "        }#T_e5c4c09a_7d57_11ec_b1f3_0242ac1c0002row5_col1{\n",
              "            background-color:  #fee9df;\n",
              "            color:  #000000;\n",
              "        }#T_e5c4c09a_7d57_11ec_b1f3_0242ac1c0002row6_col1{\n",
              "            background-color:  #feeae1;\n",
              "            color:  #000000;\n",
              "        }#T_e5c4c09a_7d57_11ec_b1f3_0242ac1c0002row7_col1{\n",
              "            background-color:  #ffeee7;\n",
              "            color:  #000000;\n",
              "        }#T_e5c4c09a_7d57_11ec_b1f3_0242ac1c0002row8_col1{\n",
              "            background-color:  #ffefe8;\n",
              "            color:  #000000;\n",
              "        }#T_e5c4c09a_7d57_11ec_b1f3_0242ac1c0002row9_col1{\n",
              "            background-color:  #fff5f0;\n",
              "            color:  #000000;\n",
              "        }</style><table id=\"T_e5c4c09a_7d57_11ec_b1f3_0242ac1c0002\" class=\"dataframe\"><thead>    <tr>        <th class=\"blank level0\" ></th>        <th class=\"col_heading level0 col0\" >words</th>        <th class=\"col_heading level0 col1\" >count</th>    </tr></thead><tbody>\n",
              "                <tr>\n",
              "                        <th id=\"T_e5c4c09a_7d57_11ec_b1f3_0242ac1c0002level0_row0\" class=\"row_heading level0 row0\" >0</th>\n",
              "                        <td id=\"T_e5c4c09a_7d57_11ec_b1f3_0242ac1c0002row0_col0\" class=\"data row0 col0\" >@user</td>\n",
              "                        <td id=\"T_e5c4c09a_7d57_11ec_b1f3_0242ac1c0002row0_col1\" class=\"data row0 col1\" >15465</td>\n",
              "            </tr>\n",
              "            <tr>\n",
              "                        <th id=\"T_e5c4c09a_7d57_11ec_b1f3_0242ac1c0002level0_row1\" class=\"row_heading level0 row1\" >1</th>\n",
              "                        <td id=\"T_e5c4c09a_7d57_11ec_b1f3_0242ac1c0002row1_col0\" class=\"data row1 col0\" >the</td>\n",
              "                        <td id=\"T_e5c4c09a_7d57_11ec_b1f3_0242ac1c0002row1_col1\" class=\"data row1 col1\" >9249</td>\n",
              "            </tr>\n",
              "            <tr>\n",
              "                        <th id=\"T_e5c4c09a_7d57_11ec_b1f3_0242ac1c0002level0_row2\" class=\"row_heading level0 row2\" >2</th>\n",
              "                        <td id=\"T_e5c4c09a_7d57_11ec_b1f3_0242ac1c0002row2_col0\" class=\"data row2 col0\" >to</td>\n",
              "                        <td id=\"T_e5c4c09a_7d57_11ec_b1f3_0242ac1c0002row2_col1\" class=\"data row2 col1\" >9207</td>\n",
              "            </tr>\n",
              "            <tr>\n",
              "                        <th id=\"T_e5c4c09a_7d57_11ec_b1f3_0242ac1c0002level0_row3\" class=\"row_heading level0 row3\" >3</th>\n",
              "                        <td id=\"T_e5c4c09a_7d57_11ec_b1f3_0242ac1c0002row3_col0\" class=\"data row3 col0\" >a</td>\n",
              "                        <td id=\"T_e5c4c09a_7d57_11ec_b1f3_0242ac1c0002row3_col1\" class=\"data row3 col1\" >5654</td>\n",
              "            </tr>\n",
              "            <tr>\n",
              "                        <th id=\"T_e5c4c09a_7d57_11ec_b1f3_0242ac1c0002level0_row4\" class=\"row_heading level0 row4\" >4</th>\n",
              "                        <td id=\"T_e5c4c09a_7d57_11ec_b1f3_0242ac1c0002row4_col0\" class=\"data row4 col0\" >i</td>\n",
              "                        <td id=\"T_e5c4c09a_7d57_11ec_b1f3_0242ac1c0002row4_col1\" class=\"data row4 col1\" >5455</td>\n",
              "            </tr>\n",
              "            <tr>\n",
              "                        <th id=\"T_e5c4c09a_7d57_11ec_b1f3_0242ac1c0002level0_row5\" class=\"row_heading level0 row5\" >5</th>\n",
              "                        <td id=\"T_e5c4c09a_7d57_11ec_b1f3_0242ac1c0002row5_col0\" class=\"data row5 col0\" >you</td>\n",
              "                        <td id=\"T_e5c4c09a_7d57_11ec_b1f3_0242ac1c0002row5_col1\" class=\"data row5 col1\" >4555</td>\n",
              "            </tr>\n",
              "            <tr>\n",
              "                        <th id=\"T_e5c4c09a_7d57_11ec_b1f3_0242ac1c0002level0_row6\" class=\"row_heading level0 row6\" >6</th>\n",
              "                        <td id=\"T_e5c4c09a_7d57_11ec_b1f3_0242ac1c0002row6_col0\" class=\"data row6 col0\" >and</td>\n",
              "                        <td id=\"T_e5c4c09a_7d57_11ec_b1f3_0242ac1c0002row6_col1\" class=\"data row6 col1\" >4473</td>\n",
              "            </tr>\n",
              "            <tr>\n",
              "                        <th id=\"T_e5c4c09a_7d57_11ec_b1f3_0242ac1c0002level0_row7\" class=\"row_heading level0 row7\" >7</th>\n",
              "                        <td id=\"T_e5c4c09a_7d57_11ec_b1f3_0242ac1c0002row7_col0\" class=\"data row7 col0\" >for</td>\n",
              "                        <td id=\"T_e5c4c09a_7d57_11ec_b1f3_0242ac1c0002row7_col1\" class=\"data row7 col1\" >4196</td>\n",
              "            </tr>\n",
              "            <tr>\n",
              "                        <th id=\"T_e5c4c09a_7d57_11ec_b1f3_0242ac1c0002level0_row8\" class=\"row_heading level0 row8\" >8</th>\n",
              "                        <td id=\"T_e5c4c09a_7d57_11ec_b1f3_0242ac1c0002row8_col0\" class=\"data row8 col0\" >in</td>\n",
              "                        <td id=\"T_e5c4c09a_7d57_11ec_b1f3_0242ac1c0002row8_col1\" class=\"data row8 col1\" >4147</td>\n",
              "            </tr>\n",
              "            <tr>\n",
              "                        <th id=\"T_e5c4c09a_7d57_11ec_b1f3_0242ac1c0002level0_row9\" class=\"row_heading level0 row9\" >9</th>\n",
              "                        <td id=\"T_e5c4c09a_7d57_11ec_b1f3_0242ac1c0002row9_col0\" class=\"data row9 col0\" >of</td>\n",
              "                        <td id=\"T_e5c4c09a_7d57_11ec_b1f3_0242ac1c0002row9_col1\" class=\"data row9 col1\" >3695</td>\n",
              "            </tr>\n",
              "    </tbody></table>"
            ],
            "text/plain": [
              "<pandas.io.formats.style.Styler at 0x7fb2bfda9890>"
            ]
          },
          "metadata": {},
          "execution_count": 13
        }
      ]
    },
    {
      "cell_type": "code",
      "source": [
        "hate_speech_train_top = top_words(train_data_hate_speech)\n",
        "hate_speech_train_top.head(10).style.background_gradient(cmap='Reds')"
      ],
      "metadata": {
        "id": "tXtV51oUzZYz",
        "outputId": "f0db29f0-5666-44da-9d79-e21b1851bd8b",
        "colab": {
          "base_uri": "https://localhost:8080/",
          "height": 363
        }
      },
      "id": "tXtV51oUzZYz",
      "execution_count": 14,
      "outputs": [
        {
          "output_type": "execute_result",
          "data": {
            "text/html": [
              "<style  type=\"text/css\" >\n",
              "#T_e6189d5a_7d57_11ec_b1f3_0242ac1c0002row0_col1{\n",
              "            background-color:  #67000d;\n",
              "            color:  #f1f1f1;\n",
              "        }#T_e6189d5a_7d57_11ec_b1f3_0242ac1c0002row1_col1{\n",
              "            background-color:  #fca183;\n",
              "            color:  #000000;\n",
              "        }#T_e6189d5a_7d57_11ec_b1f3_0242ac1c0002row2_col1{\n",
              "            background-color:  #fdccb8;\n",
              "            color:  #000000;\n",
              "        }#T_e6189d5a_7d57_11ec_b1f3_0242ac1c0002row3_col1{\n",
              "            background-color:  #fdd5c4;\n",
              "            color:  #000000;\n",
              "        }#T_e6189d5a_7d57_11ec_b1f3_0242ac1c0002row4_col1{\n",
              "            background-color:  #fee5d9;\n",
              "            color:  #000000;\n",
              "        }#T_e6189d5a_7d57_11ec_b1f3_0242ac1c0002row5_col1,#T_e6189d5a_7d57_11ec_b1f3_0242ac1c0002row6_col1{\n",
              "            background-color:  #fee9df;\n",
              "            color:  #000000;\n",
              "        }#T_e6189d5a_7d57_11ec_b1f3_0242ac1c0002row7_col1{\n",
              "            background-color:  #ffece4;\n",
              "            color:  #000000;\n",
              "        }#T_e6189d5a_7d57_11ec_b1f3_0242ac1c0002row8_col1{\n",
              "            background-color:  #fff0e9;\n",
              "            color:  #000000;\n",
              "        }#T_e6189d5a_7d57_11ec_b1f3_0242ac1c0002row9_col1{\n",
              "            background-color:  #fff5f0;\n",
              "            color:  #000000;\n",
              "        }</style><table id=\"T_e6189d5a_7d57_11ec_b1f3_0242ac1c0002\" class=\"dataframe\"><thead>    <tr>        <th class=\"blank level0\" ></th>        <th class=\"col_heading level0 col0\" >words</th>        <th class=\"col_heading level0 col1\" >count</th>    </tr></thead><tbody>\n",
              "                <tr>\n",
              "                        <th id=\"T_e6189d5a_7d57_11ec_b1f3_0242ac1c0002level0_row0\" class=\"row_heading level0 row0\" >0</th>\n",
              "                        <td id=\"T_e6189d5a_7d57_11ec_b1f3_0242ac1c0002row0_col0\" class=\"data row0 col0\" >@user</td>\n",
              "                        <td id=\"T_e6189d5a_7d57_11ec_b1f3_0242ac1c0002row0_col1\" class=\"data row0 col1\" >1826</td>\n",
              "            </tr>\n",
              "            <tr>\n",
              "                        <th id=\"T_e6189d5a_7d57_11ec_b1f3_0242ac1c0002level0_row1\" class=\"row_heading level0 row1\" >1</th>\n",
              "                        <td id=\"T_e6189d5a_7d57_11ec_b1f3_0242ac1c0002row1_col0\" class=\"data row1 col0\" >the</td>\n",
              "                        <td id=\"T_e6189d5a_7d57_11ec_b1f3_0242ac1c0002row1_col1\" class=\"data row1 col1\" >816</td>\n",
              "            </tr>\n",
              "            <tr>\n",
              "                        <th id=\"T_e6189d5a_7d57_11ec_b1f3_0242ac1c0002level0_row2\" class=\"row_heading level0 row2\" >2</th>\n",
              "                        <td id=\"T_e6189d5a_7d57_11ec_b1f3_0242ac1c0002row2_col0\" class=\"data row2 col0\" >a</td>\n",
              "                        <td id=\"T_e6189d5a_7d57_11ec_b1f3_0242ac1c0002row2_col1\" class=\"data row2 col1\" >607</td>\n",
              "            </tr>\n",
              "            <tr>\n",
              "                        <th id=\"T_e6189d5a_7d57_11ec_b1f3_0242ac1c0002level0_row3\" class=\"row_heading level0 row3\" >3</th>\n",
              "                        <td id=\"T_e6189d5a_7d57_11ec_b1f3_0242ac1c0002row3_col0\" class=\"data row3 col0\" >to</td>\n",
              "                        <td id=\"T_e6189d5a_7d57_11ec_b1f3_0242ac1c0002row3_col1\" class=\"data row3 col1\" >561</td>\n",
              "            </tr>\n",
              "            <tr>\n",
              "                        <th id=\"T_e6189d5a_7d57_11ec_b1f3_0242ac1c0002level0_row4\" class=\"row_heading level0 row4\" >4</th>\n",
              "                        <td id=\"T_e6189d5a_7d57_11ec_b1f3_0242ac1c0002row4_col0\" class=\"data row4 col0\" >of</td>\n",
              "                        <td id=\"T_e6189d5a_7d57_11ec_b1f3_0242ac1c0002row4_col1\" class=\"data row4 col1\" >457</td>\n",
              "            </tr>\n",
              "            <tr>\n",
              "                        <th id=\"T_e6189d5a_7d57_11ec_b1f3_0242ac1c0002level0_row5\" class=\"row_heading level0 row5\" >5</th>\n",
              "                        <td id=\"T_e6189d5a_7d57_11ec_b1f3_0242ac1c0002row5_col0\" class=\"data row5 col0\" >is</td>\n",
              "                        <td id=\"T_e6189d5a_7d57_11ec_b1f3_0242ac1c0002row5_col1\" class=\"data row5 col1\" >425</td>\n",
              "            </tr>\n",
              "            <tr>\n",
              "                        <th id=\"T_e6189d5a_7d57_11ec_b1f3_0242ac1c0002level0_row6\" class=\"row_heading level0 row6\" >6</th>\n",
              "                        <td id=\"T_e6189d5a_7d57_11ec_b1f3_0242ac1c0002row6_col0\" class=\"data row6 col0\" >in</td>\n",
              "                        <td id=\"T_e6189d5a_7d57_11ec_b1f3_0242ac1c0002row6_col1\" class=\"data row6 col1\" >423</td>\n",
              "            </tr>\n",
              "            <tr>\n",
              "                        <th id=\"T_e6189d5a_7d57_11ec_b1f3_0242ac1c0002level0_row7\" class=\"row_heading level0 row7\" >7</th>\n",
              "                        <td id=\"T_e6189d5a_7d57_11ec_b1f3_0242ac1c0002row7_col0\" class=\"data row7 col0\" >you</td>\n",
              "                        <td id=\"T_e6189d5a_7d57_11ec_b1f3_0242ac1c0002row7_col1\" class=\"data row7 col1\" >394</td>\n",
              "            </tr>\n",
              "            <tr>\n",
              "                        <th id=\"T_e6189d5a_7d57_11ec_b1f3_0242ac1c0002level0_row8\" class=\"row_heading level0 row8\" >8</th>\n",
              "                        <td id=\"T_e6189d5a_7d57_11ec_b1f3_0242ac1c0002row8_col0\" class=\"data row8 col0\" >and</td>\n",
              "                        <td id=\"T_e6189d5a_7d57_11ec_b1f3_0242ac1c0002row8_col1\" class=\"data row8 col1\" >358</td>\n",
              "            </tr>\n",
              "            <tr>\n",
              "                        <th id=\"T_e6189d5a_7d57_11ec_b1f3_0242ac1c0002level0_row9\" class=\"row_heading level0 row9\" >9</th>\n",
              "                        <td id=\"T_e6189d5a_7d57_11ec_b1f3_0242ac1c0002row9_col0\" class=\"data row9 col0\" >are</td>\n",
              "                        <td id=\"T_e6189d5a_7d57_11ec_b1f3_0242ac1c0002row9_col1\" class=\"data row9 col1\" >314</td>\n",
              "            </tr>\n",
              "    </tbody></table>"
            ],
            "text/plain": [
              "<pandas.io.formats.style.Styler at 0x7fb2b4c9df90>"
            ]
          },
          "metadata": {},
          "execution_count": 14
        }
      ]
    },
    {
      "cell_type": "code",
      "source": [
        "# Remove mentions (twitter handle names eg: @user) from the sentence\n",
        "def remove_mentions(words):\n",
        "    return \" \".join(filter(lambda x:x[0]!='@', words.split()))\n",
        "\n",
        "trimmed_data['tweet'] = trimmed_data['tweet'].apply(lambda x: remove_mentions(x))\n",
        "trimmed_data.head()"
      ],
      "metadata": {
        "colab": {
          "base_uri": "https://localhost:8080/",
          "height": 206
        },
        "id": "B6QeXarj95Vz",
        "outputId": "88b62e58-9b60-4a5c-8d8e-f940fe19de47"
      },
      "id": "B6QeXarj95Vz",
      "execution_count": 15,
      "outputs": [
        {
          "output_type": "execute_result",
          "data": {
            "text/html": [
              "\n",
              "  <div id=\"df-f987bebf-ac8f-4ca2-9a34-ad42f0a5389f\">\n",
              "    <div class=\"colab-df-container\">\n",
              "      <div>\n",
              "<style scoped>\n",
              "    .dataframe tbody tr th:only-of-type {\n",
              "        vertical-align: middle;\n",
              "    }\n",
              "\n",
              "    .dataframe tbody tr th {\n",
              "        vertical-align: top;\n",
              "    }\n",
              "\n",
              "    .dataframe thead th {\n",
              "        text-align: right;\n",
              "    }\n",
              "</style>\n",
              "<table border=\"1\" class=\"dataframe\">\n",
              "  <thead>\n",
              "    <tr style=\"text-align: right;\">\n",
              "      <th></th>\n",
              "      <th>label</th>\n",
              "      <th>tweet</th>\n",
              "    </tr>\n",
              "  </thead>\n",
              "  <tbody>\n",
              "    <tr>\n",
              "      <th>0</th>\n",
              "      <td>0</td>\n",
              "      <td>when a father is dysfunctional and is so selfi...</td>\n",
              "    </tr>\n",
              "    <tr>\n",
              "      <th>1</th>\n",
              "      <td>0</td>\n",
              "      <td>thanks for #lyft credit i can't use cause they...</td>\n",
              "    </tr>\n",
              "    <tr>\n",
              "      <th>2</th>\n",
              "      <td>0</td>\n",
              "      <td>bihday your majesty</td>\n",
              "    </tr>\n",
              "    <tr>\n",
              "      <th>3</th>\n",
              "      <td>0</td>\n",
              "      <td>#model i love u take with u all the time in ur...</td>\n",
              "    </tr>\n",
              "    <tr>\n",
              "      <th>4</th>\n",
              "      <td>0</td>\n",
              "      <td>factsguide: society now #motivation</td>\n",
              "    </tr>\n",
              "  </tbody>\n",
              "</table>\n",
              "</div>\n",
              "      <button class=\"colab-df-convert\" onclick=\"convertToInteractive('df-f987bebf-ac8f-4ca2-9a34-ad42f0a5389f')\"\n",
              "              title=\"Convert this dataframe to an interactive table.\"\n",
              "              style=\"display:none;\">\n",
              "        \n",
              "  <svg xmlns=\"http://www.w3.org/2000/svg\" height=\"24px\"viewBox=\"0 0 24 24\"\n",
              "       width=\"24px\">\n",
              "    <path d=\"M0 0h24v24H0V0z\" fill=\"none\"/>\n",
              "    <path d=\"M18.56 5.44l.94 2.06.94-2.06 2.06-.94-2.06-.94-.94-2.06-.94 2.06-2.06.94zm-11 1L8.5 8.5l.94-2.06 2.06-.94-2.06-.94L8.5 2.5l-.94 2.06-2.06.94zm10 10l.94 2.06.94-2.06 2.06-.94-2.06-.94-.94-2.06-.94 2.06-2.06.94z\"/><path d=\"M17.41 7.96l-1.37-1.37c-.4-.4-.92-.59-1.43-.59-.52 0-1.04.2-1.43.59L10.3 9.45l-7.72 7.72c-.78.78-.78 2.05 0 2.83L4 21.41c.39.39.9.59 1.41.59.51 0 1.02-.2 1.41-.59l7.78-7.78 2.81-2.81c.8-.78.8-2.07 0-2.86zM5.41 20L4 18.59l7.72-7.72 1.47 1.35L5.41 20z\"/>\n",
              "  </svg>\n",
              "      </button>\n",
              "      \n",
              "  <style>\n",
              "    .colab-df-container {\n",
              "      display:flex;\n",
              "      flex-wrap:wrap;\n",
              "      gap: 12px;\n",
              "    }\n",
              "\n",
              "    .colab-df-convert {\n",
              "      background-color: #E8F0FE;\n",
              "      border: none;\n",
              "      border-radius: 50%;\n",
              "      cursor: pointer;\n",
              "      display: none;\n",
              "      fill: #1967D2;\n",
              "      height: 32px;\n",
              "      padding: 0 0 0 0;\n",
              "      width: 32px;\n",
              "    }\n",
              "\n",
              "    .colab-df-convert:hover {\n",
              "      background-color: #E2EBFA;\n",
              "      box-shadow: 0px 1px 2px rgba(60, 64, 67, 0.3), 0px 1px 3px 1px rgba(60, 64, 67, 0.15);\n",
              "      fill: #174EA6;\n",
              "    }\n",
              "\n",
              "    [theme=dark] .colab-df-convert {\n",
              "      background-color: #3B4455;\n",
              "      fill: #D2E3FC;\n",
              "    }\n",
              "\n",
              "    [theme=dark] .colab-df-convert:hover {\n",
              "      background-color: #434B5C;\n",
              "      box-shadow: 0px 1px 3px 1px rgba(0, 0, 0, 0.15);\n",
              "      filter: drop-shadow(0px 1px 2px rgba(0, 0, 0, 0.3));\n",
              "      fill: #FFFFFF;\n",
              "    }\n",
              "  </style>\n",
              "\n",
              "      <script>\n",
              "        const buttonEl =\n",
              "          document.querySelector('#df-f987bebf-ac8f-4ca2-9a34-ad42f0a5389f button.colab-df-convert');\n",
              "        buttonEl.style.display =\n",
              "          google.colab.kernel.accessAllowed ? 'block' : 'none';\n",
              "\n",
              "        async function convertToInteractive(key) {\n",
              "          const element = document.querySelector('#df-f987bebf-ac8f-4ca2-9a34-ad42f0a5389f');\n",
              "          const dataTable =\n",
              "            await google.colab.kernel.invokeFunction('convertToInteractive',\n",
              "                                                     [key], {});\n",
              "          if (!dataTable) return;\n",
              "\n",
              "          const docLinkHtml = 'Like what you see? Visit the ' +\n",
              "            '<a target=\"_blank\" href=https://colab.research.google.com/notebooks/data_table.ipynb>data table notebook</a>'\n",
              "            + ' to learn more about interactive tables.';\n",
              "          element.innerHTML = '';\n",
              "          dataTable['output_type'] = 'display_data';\n",
              "          await google.colab.output.renderOutput(dataTable, element);\n",
              "          const docLink = document.createElement('div');\n",
              "          docLink.innerHTML = docLinkHtml;\n",
              "          element.appendChild(docLink);\n",
              "        }\n",
              "      </script>\n",
              "    </div>\n",
              "  </div>\n",
              "  "
            ],
            "text/plain": [
              "   label                                              tweet\n",
              "0      0  when a father is dysfunctional and is so selfi...\n",
              "1      0  thanks for #lyft credit i can't use cause they...\n",
              "2      0                                bihday your majesty\n",
              "3      0  #model i love u take with u all the time in ur...\n",
              "4      0                factsguide: society now #motivation"
            ]
          },
          "metadata": {},
          "execution_count": 15
        }
      ]
    },
    {
      "cell_type": "markdown",
      "source": [
        "### Tokenization of tweets"
      ],
      "metadata": {
        "id": "F2rrKc0hyMKp"
      },
      "id": "F2rrKc0hyMKp"
    },
    {
      "cell_type": "code",
      "source": [
        "Tokenizer=WhitespaceTokenizer()\n",
        "trimmed_data['tweet'] = trimmed_data.apply(lambda row: Tokenizer.tokenize(row['tweet']), axis=1)\n",
        "trimmed_data.head()"
      ],
      "metadata": {
        "colab": {
          "base_uri": "https://localhost:8080/",
          "height": 0
        },
        "id": "kXaExUBnyLN_",
        "outputId": "90376592-434c-4882-fcbc-addf647625c6"
      },
      "id": "kXaExUBnyLN_",
      "execution_count": 16,
      "outputs": [
        {
          "output_type": "execute_result",
          "data": {
            "text/html": [
              "\n",
              "  <div id=\"df-c13ad85e-28e9-4d64-baca-bf8176e9042b\">\n",
              "    <div class=\"colab-df-container\">\n",
              "      <div>\n",
              "<style scoped>\n",
              "    .dataframe tbody tr th:only-of-type {\n",
              "        vertical-align: middle;\n",
              "    }\n",
              "\n",
              "    .dataframe tbody tr th {\n",
              "        vertical-align: top;\n",
              "    }\n",
              "\n",
              "    .dataframe thead th {\n",
              "        text-align: right;\n",
              "    }\n",
              "</style>\n",
              "<table border=\"1\" class=\"dataframe\">\n",
              "  <thead>\n",
              "    <tr style=\"text-align: right;\">\n",
              "      <th></th>\n",
              "      <th>label</th>\n",
              "      <th>tweet</th>\n",
              "    </tr>\n",
              "  </thead>\n",
              "  <tbody>\n",
              "    <tr>\n",
              "      <th>0</th>\n",
              "      <td>0</td>\n",
              "      <td>[when, a, father, is, dysfunctional, and, is, ...</td>\n",
              "    </tr>\n",
              "    <tr>\n",
              "      <th>1</th>\n",
              "      <td>0</td>\n",
              "      <td>[thanks, for, #lyft, credit, i, can't, use, ca...</td>\n",
              "    </tr>\n",
              "    <tr>\n",
              "      <th>2</th>\n",
              "      <td>0</td>\n",
              "      <td>[bihday, your, majesty]</td>\n",
              "    </tr>\n",
              "    <tr>\n",
              "      <th>3</th>\n",
              "      <td>0</td>\n",
              "      <td>[#model, i, love, u, take, with, u, all, the, ...</td>\n",
              "    </tr>\n",
              "    <tr>\n",
              "      <th>4</th>\n",
              "      <td>0</td>\n",
              "      <td>[factsguide:, society, now, #motivation]</td>\n",
              "    </tr>\n",
              "  </tbody>\n",
              "</table>\n",
              "</div>\n",
              "      <button class=\"colab-df-convert\" onclick=\"convertToInteractive('df-c13ad85e-28e9-4d64-baca-bf8176e9042b')\"\n",
              "              title=\"Convert this dataframe to an interactive table.\"\n",
              "              style=\"display:none;\">\n",
              "        \n",
              "  <svg xmlns=\"http://www.w3.org/2000/svg\" height=\"24px\"viewBox=\"0 0 24 24\"\n",
              "       width=\"24px\">\n",
              "    <path d=\"M0 0h24v24H0V0z\" fill=\"none\"/>\n",
              "    <path d=\"M18.56 5.44l.94 2.06.94-2.06 2.06-.94-2.06-.94-.94-2.06-.94 2.06-2.06.94zm-11 1L8.5 8.5l.94-2.06 2.06-.94-2.06-.94L8.5 2.5l-.94 2.06-2.06.94zm10 10l.94 2.06.94-2.06 2.06-.94-2.06-.94-.94-2.06-.94 2.06-2.06.94z\"/><path d=\"M17.41 7.96l-1.37-1.37c-.4-.4-.92-.59-1.43-.59-.52 0-1.04.2-1.43.59L10.3 9.45l-7.72 7.72c-.78.78-.78 2.05 0 2.83L4 21.41c.39.39.9.59 1.41.59.51 0 1.02-.2 1.41-.59l7.78-7.78 2.81-2.81c.8-.78.8-2.07 0-2.86zM5.41 20L4 18.59l7.72-7.72 1.47 1.35L5.41 20z\"/>\n",
              "  </svg>\n",
              "      </button>\n",
              "      \n",
              "  <style>\n",
              "    .colab-df-container {\n",
              "      display:flex;\n",
              "      flex-wrap:wrap;\n",
              "      gap: 12px;\n",
              "    }\n",
              "\n",
              "    .colab-df-convert {\n",
              "      background-color: #E8F0FE;\n",
              "      border: none;\n",
              "      border-radius: 50%;\n",
              "      cursor: pointer;\n",
              "      display: none;\n",
              "      fill: #1967D2;\n",
              "      height: 32px;\n",
              "      padding: 0 0 0 0;\n",
              "      width: 32px;\n",
              "    }\n",
              "\n",
              "    .colab-df-convert:hover {\n",
              "      background-color: #E2EBFA;\n",
              "      box-shadow: 0px 1px 2px rgba(60, 64, 67, 0.3), 0px 1px 3px 1px rgba(60, 64, 67, 0.15);\n",
              "      fill: #174EA6;\n",
              "    }\n",
              "\n",
              "    [theme=dark] .colab-df-convert {\n",
              "      background-color: #3B4455;\n",
              "      fill: #D2E3FC;\n",
              "    }\n",
              "\n",
              "    [theme=dark] .colab-df-convert:hover {\n",
              "      background-color: #434B5C;\n",
              "      box-shadow: 0px 1px 3px 1px rgba(0, 0, 0, 0.15);\n",
              "      filter: drop-shadow(0px 1px 2px rgba(0, 0, 0, 0.3));\n",
              "      fill: #FFFFFF;\n",
              "    }\n",
              "  </style>\n",
              "\n",
              "      <script>\n",
              "        const buttonEl =\n",
              "          document.querySelector('#df-c13ad85e-28e9-4d64-baca-bf8176e9042b button.colab-df-convert');\n",
              "        buttonEl.style.display =\n",
              "          google.colab.kernel.accessAllowed ? 'block' : 'none';\n",
              "\n",
              "        async function convertToInteractive(key) {\n",
              "          const element = document.querySelector('#df-c13ad85e-28e9-4d64-baca-bf8176e9042b');\n",
              "          const dataTable =\n",
              "            await google.colab.kernel.invokeFunction('convertToInteractive',\n",
              "                                                     [key], {});\n",
              "          if (!dataTable) return;\n",
              "\n",
              "          const docLinkHtml = 'Like what you see? Visit the ' +\n",
              "            '<a target=\"_blank\" href=https://colab.research.google.com/notebooks/data_table.ipynb>data table notebook</a>'\n",
              "            + ' to learn more about interactive tables.';\n",
              "          element.innerHTML = '';\n",
              "          dataTable['output_type'] = 'display_data';\n",
              "          await google.colab.output.renderOutput(dataTable, element);\n",
              "          const docLink = document.createElement('div');\n",
              "          docLink.innerHTML = docLinkHtml;\n",
              "          element.appendChild(docLink);\n",
              "        }\n",
              "      </script>\n",
              "    </div>\n",
              "  </div>\n",
              "  "
            ],
            "text/plain": [
              "   label                                              tweet\n",
              "0      0  [when, a, father, is, dysfunctional, and, is, ...\n",
              "1      0  [thanks, for, #lyft, credit, i, can't, use, ca...\n",
              "2      0                            [bihday, your, majesty]\n",
              "3      0  [#model, i, love, u, take, with, u, all, the, ...\n",
              "4      0           [factsguide:, society, now, #motivation]"
            ]
          },
          "metadata": {},
          "execution_count": 16
        }
      ]
    },
    {
      "cell_type": "markdown",
      "source": [
        "### Replace contractions"
      ],
      "metadata": {
        "id": "9YPchR4yCaqB"
      },
      "id": "9YPchR4yCaqB"
    },
    {
      "cell_type": "code",
      "source": [
        "def replace_contractions(text):\n",
        "    \"\"\"Replace contractions in string of text\"\"\"\n",
        "    new_words = []\n",
        "    for word in text:\n",
        "      new_word = contractions.fix(word)\n",
        "      if new_word != '':\n",
        "        new_words.append(new_word)\n",
        "    return new_words\n",
        "\n",
        "trimmed_data['tweet'] = trimmed_data['tweet'].apply(lambda x: replace_contractions(x))\n",
        "\n",
        "trimmed_data.head()"
      ],
      "metadata": {
        "colab": {
          "base_uri": "https://localhost:8080/",
          "height": 0
        },
        "id": "_AAMNEVzCBKI",
        "outputId": "67f403cb-cb4b-49c3-cf33-fd7f275de9f8"
      },
      "id": "_AAMNEVzCBKI",
      "execution_count": 17,
      "outputs": [
        {
          "output_type": "execute_result",
          "data": {
            "text/html": [
              "\n",
              "  <div id=\"df-429fbeb5-23b4-499f-a286-88c1319b2086\">\n",
              "    <div class=\"colab-df-container\">\n",
              "      <div>\n",
              "<style scoped>\n",
              "    .dataframe tbody tr th:only-of-type {\n",
              "        vertical-align: middle;\n",
              "    }\n",
              "\n",
              "    .dataframe tbody tr th {\n",
              "        vertical-align: top;\n",
              "    }\n",
              "\n",
              "    .dataframe thead th {\n",
              "        text-align: right;\n",
              "    }\n",
              "</style>\n",
              "<table border=\"1\" class=\"dataframe\">\n",
              "  <thead>\n",
              "    <tr style=\"text-align: right;\">\n",
              "      <th></th>\n",
              "      <th>label</th>\n",
              "      <th>tweet</th>\n",
              "    </tr>\n",
              "  </thead>\n",
              "  <tbody>\n",
              "    <tr>\n",
              "      <th>0</th>\n",
              "      <td>0</td>\n",
              "      <td>[when, a, father, is, dysfunctional, and, is, ...</td>\n",
              "    </tr>\n",
              "    <tr>\n",
              "      <th>1</th>\n",
              "      <td>0</td>\n",
              "      <td>[thanks, for, #lyft, credit, i, cannot, use, b...</td>\n",
              "    </tr>\n",
              "    <tr>\n",
              "      <th>2</th>\n",
              "      <td>0</td>\n",
              "      <td>[bihday, your, majesty]</td>\n",
              "    </tr>\n",
              "    <tr>\n",
              "      <th>3</th>\n",
              "      <td>0</td>\n",
              "      <td>[#model, i, love, you, take, with, you, all, t...</td>\n",
              "    </tr>\n",
              "    <tr>\n",
              "      <th>4</th>\n",
              "      <td>0</td>\n",
              "      <td>[factsguide:, society, now, #motivation]</td>\n",
              "    </tr>\n",
              "  </tbody>\n",
              "</table>\n",
              "</div>\n",
              "      <button class=\"colab-df-convert\" onclick=\"convertToInteractive('df-429fbeb5-23b4-499f-a286-88c1319b2086')\"\n",
              "              title=\"Convert this dataframe to an interactive table.\"\n",
              "              style=\"display:none;\">\n",
              "        \n",
              "  <svg xmlns=\"http://www.w3.org/2000/svg\" height=\"24px\"viewBox=\"0 0 24 24\"\n",
              "       width=\"24px\">\n",
              "    <path d=\"M0 0h24v24H0V0z\" fill=\"none\"/>\n",
              "    <path d=\"M18.56 5.44l.94 2.06.94-2.06 2.06-.94-2.06-.94-.94-2.06-.94 2.06-2.06.94zm-11 1L8.5 8.5l.94-2.06 2.06-.94-2.06-.94L8.5 2.5l-.94 2.06-2.06.94zm10 10l.94 2.06.94-2.06 2.06-.94-2.06-.94-.94-2.06-.94 2.06-2.06.94z\"/><path d=\"M17.41 7.96l-1.37-1.37c-.4-.4-.92-.59-1.43-.59-.52 0-1.04.2-1.43.59L10.3 9.45l-7.72 7.72c-.78.78-.78 2.05 0 2.83L4 21.41c.39.39.9.59 1.41.59.51 0 1.02-.2 1.41-.59l7.78-7.78 2.81-2.81c.8-.78.8-2.07 0-2.86zM5.41 20L4 18.59l7.72-7.72 1.47 1.35L5.41 20z\"/>\n",
              "  </svg>\n",
              "      </button>\n",
              "      \n",
              "  <style>\n",
              "    .colab-df-container {\n",
              "      display:flex;\n",
              "      flex-wrap:wrap;\n",
              "      gap: 12px;\n",
              "    }\n",
              "\n",
              "    .colab-df-convert {\n",
              "      background-color: #E8F0FE;\n",
              "      border: none;\n",
              "      border-radius: 50%;\n",
              "      cursor: pointer;\n",
              "      display: none;\n",
              "      fill: #1967D2;\n",
              "      height: 32px;\n",
              "      padding: 0 0 0 0;\n",
              "      width: 32px;\n",
              "    }\n",
              "\n",
              "    .colab-df-convert:hover {\n",
              "      background-color: #E2EBFA;\n",
              "      box-shadow: 0px 1px 2px rgba(60, 64, 67, 0.3), 0px 1px 3px 1px rgba(60, 64, 67, 0.15);\n",
              "      fill: #174EA6;\n",
              "    }\n",
              "\n",
              "    [theme=dark] .colab-df-convert {\n",
              "      background-color: #3B4455;\n",
              "      fill: #D2E3FC;\n",
              "    }\n",
              "\n",
              "    [theme=dark] .colab-df-convert:hover {\n",
              "      background-color: #434B5C;\n",
              "      box-shadow: 0px 1px 3px 1px rgba(0, 0, 0, 0.15);\n",
              "      filter: drop-shadow(0px 1px 2px rgba(0, 0, 0, 0.3));\n",
              "      fill: #FFFFFF;\n",
              "    }\n",
              "  </style>\n",
              "\n",
              "      <script>\n",
              "        const buttonEl =\n",
              "          document.querySelector('#df-429fbeb5-23b4-499f-a286-88c1319b2086 button.colab-df-convert');\n",
              "        buttonEl.style.display =\n",
              "          google.colab.kernel.accessAllowed ? 'block' : 'none';\n",
              "\n",
              "        async function convertToInteractive(key) {\n",
              "          const element = document.querySelector('#df-429fbeb5-23b4-499f-a286-88c1319b2086');\n",
              "          const dataTable =\n",
              "            await google.colab.kernel.invokeFunction('convertToInteractive',\n",
              "                                                     [key], {});\n",
              "          if (!dataTable) return;\n",
              "\n",
              "          const docLinkHtml = 'Like what you see? Visit the ' +\n",
              "            '<a target=\"_blank\" href=https://colab.research.google.com/notebooks/data_table.ipynb>data table notebook</a>'\n",
              "            + ' to learn more about interactive tables.';\n",
              "          element.innerHTML = '';\n",
              "          dataTable['output_type'] = 'display_data';\n",
              "          await google.colab.output.renderOutput(dataTable, element);\n",
              "          const docLink = document.createElement('div');\n",
              "          docLink.innerHTML = docLinkHtml;\n",
              "          element.appendChild(docLink);\n",
              "        }\n",
              "      </script>\n",
              "    </div>\n",
              "  </div>\n",
              "  "
            ],
            "text/plain": [
              "   label                                              tweet\n",
              "0      0  [when, a, father, is, dysfunctional, and, is, ...\n",
              "1      0  [thanks, for, #lyft, credit, i, cannot, use, b...\n",
              "2      0                            [bihday, your, majesty]\n",
              "3      0  [#model, i, love, you, take, with, you, all, t...\n",
              "4      0           [factsguide:, society, now, #motivation]"
            ]
          },
          "metadata": {},
          "execution_count": 17
        }
      ]
    },
    {
      "cell_type": "markdown",
      "source": [
        "### Remove punctuations"
      ],
      "metadata": {
        "id": "NeD5NsAOCgF7"
      },
      "id": "NeD5NsAOCgF7"
    },
    {
      "cell_type": "code",
      "source": [
        "def remove_punctuation(words):\n",
        "    \"\"\"Remove punctuation from list of tokenized words\"\"\"\n",
        "    new_words = []\n",
        "    for word in words:\n",
        "        new_word = re.sub(r'[^\\w\\s]', '', word)\n",
        "        if new_word != '':\n",
        "            new_words.append(new_word)\n",
        "    return new_words\n",
        "trimmed_data['tweet'] = trimmed_data['tweet'].apply(lambda x: remove_punctuation(x))        \n",
        "\n",
        "trimmed_data.head()"
      ],
      "metadata": {
        "colab": {
          "base_uri": "https://localhost:8080/",
          "height": 0
        },
        "id": "yT1uz6vVCV0i",
        "outputId": "b835af22-1f85-4342-d6b9-86a78e1ccb9c"
      },
      "id": "yT1uz6vVCV0i",
      "execution_count": 18,
      "outputs": [
        {
          "output_type": "execute_result",
          "data": {
            "text/html": [
              "\n",
              "  <div id=\"df-59c28c12-b005-45a7-99c4-74f8ab3548ae\">\n",
              "    <div class=\"colab-df-container\">\n",
              "      <div>\n",
              "<style scoped>\n",
              "    .dataframe tbody tr th:only-of-type {\n",
              "        vertical-align: middle;\n",
              "    }\n",
              "\n",
              "    .dataframe tbody tr th {\n",
              "        vertical-align: top;\n",
              "    }\n",
              "\n",
              "    .dataframe thead th {\n",
              "        text-align: right;\n",
              "    }\n",
              "</style>\n",
              "<table border=\"1\" class=\"dataframe\">\n",
              "  <thead>\n",
              "    <tr style=\"text-align: right;\">\n",
              "      <th></th>\n",
              "      <th>label</th>\n",
              "      <th>tweet</th>\n",
              "    </tr>\n",
              "  </thead>\n",
              "  <tbody>\n",
              "    <tr>\n",
              "      <th>0</th>\n",
              "      <td>0</td>\n",
              "      <td>[when, a, father, is, dysfunctional, and, is, ...</td>\n",
              "    </tr>\n",
              "    <tr>\n",
              "      <th>1</th>\n",
              "      <td>0</td>\n",
              "      <td>[thanks, for, lyft, credit, i, cannot, use, be...</td>\n",
              "    </tr>\n",
              "    <tr>\n",
              "      <th>2</th>\n",
              "      <td>0</td>\n",
              "      <td>[bihday, your, majesty]</td>\n",
              "    </tr>\n",
              "    <tr>\n",
              "      <th>3</th>\n",
              "      <td>0</td>\n",
              "      <td>[model, i, love, you, take, with, you, all, th...</td>\n",
              "    </tr>\n",
              "    <tr>\n",
              "      <th>4</th>\n",
              "      <td>0</td>\n",
              "      <td>[factsguide, society, now, motivation]</td>\n",
              "    </tr>\n",
              "  </tbody>\n",
              "</table>\n",
              "</div>\n",
              "      <button class=\"colab-df-convert\" onclick=\"convertToInteractive('df-59c28c12-b005-45a7-99c4-74f8ab3548ae')\"\n",
              "              title=\"Convert this dataframe to an interactive table.\"\n",
              "              style=\"display:none;\">\n",
              "        \n",
              "  <svg xmlns=\"http://www.w3.org/2000/svg\" height=\"24px\"viewBox=\"0 0 24 24\"\n",
              "       width=\"24px\">\n",
              "    <path d=\"M0 0h24v24H0V0z\" fill=\"none\"/>\n",
              "    <path d=\"M18.56 5.44l.94 2.06.94-2.06 2.06-.94-2.06-.94-.94-2.06-.94 2.06-2.06.94zm-11 1L8.5 8.5l.94-2.06 2.06-.94-2.06-.94L8.5 2.5l-.94 2.06-2.06.94zm10 10l.94 2.06.94-2.06 2.06-.94-2.06-.94-.94-2.06-.94 2.06-2.06.94z\"/><path d=\"M17.41 7.96l-1.37-1.37c-.4-.4-.92-.59-1.43-.59-.52 0-1.04.2-1.43.59L10.3 9.45l-7.72 7.72c-.78.78-.78 2.05 0 2.83L4 21.41c.39.39.9.59 1.41.59.51 0 1.02-.2 1.41-.59l7.78-7.78 2.81-2.81c.8-.78.8-2.07 0-2.86zM5.41 20L4 18.59l7.72-7.72 1.47 1.35L5.41 20z\"/>\n",
              "  </svg>\n",
              "      </button>\n",
              "      \n",
              "  <style>\n",
              "    .colab-df-container {\n",
              "      display:flex;\n",
              "      flex-wrap:wrap;\n",
              "      gap: 12px;\n",
              "    }\n",
              "\n",
              "    .colab-df-convert {\n",
              "      background-color: #E8F0FE;\n",
              "      border: none;\n",
              "      border-radius: 50%;\n",
              "      cursor: pointer;\n",
              "      display: none;\n",
              "      fill: #1967D2;\n",
              "      height: 32px;\n",
              "      padding: 0 0 0 0;\n",
              "      width: 32px;\n",
              "    }\n",
              "\n",
              "    .colab-df-convert:hover {\n",
              "      background-color: #E2EBFA;\n",
              "      box-shadow: 0px 1px 2px rgba(60, 64, 67, 0.3), 0px 1px 3px 1px rgba(60, 64, 67, 0.15);\n",
              "      fill: #174EA6;\n",
              "    }\n",
              "\n",
              "    [theme=dark] .colab-df-convert {\n",
              "      background-color: #3B4455;\n",
              "      fill: #D2E3FC;\n",
              "    }\n",
              "\n",
              "    [theme=dark] .colab-df-convert:hover {\n",
              "      background-color: #434B5C;\n",
              "      box-shadow: 0px 1px 3px 1px rgba(0, 0, 0, 0.15);\n",
              "      filter: drop-shadow(0px 1px 2px rgba(0, 0, 0, 0.3));\n",
              "      fill: #FFFFFF;\n",
              "    }\n",
              "  </style>\n",
              "\n",
              "      <script>\n",
              "        const buttonEl =\n",
              "          document.querySelector('#df-59c28c12-b005-45a7-99c4-74f8ab3548ae button.colab-df-convert');\n",
              "        buttonEl.style.display =\n",
              "          google.colab.kernel.accessAllowed ? 'block' : 'none';\n",
              "\n",
              "        async function convertToInteractive(key) {\n",
              "          const element = document.querySelector('#df-59c28c12-b005-45a7-99c4-74f8ab3548ae');\n",
              "          const dataTable =\n",
              "            await google.colab.kernel.invokeFunction('convertToInteractive',\n",
              "                                                     [key], {});\n",
              "          if (!dataTable) return;\n",
              "\n",
              "          const docLinkHtml = 'Like what you see? Visit the ' +\n",
              "            '<a target=\"_blank\" href=https://colab.research.google.com/notebooks/data_table.ipynb>data table notebook</a>'\n",
              "            + ' to learn more about interactive tables.';\n",
              "          element.innerHTML = '';\n",
              "          dataTable['output_type'] = 'display_data';\n",
              "          await google.colab.output.renderOutput(dataTable, element);\n",
              "          const docLink = document.createElement('div');\n",
              "          docLink.innerHTML = docLinkHtml;\n",
              "          element.appendChild(docLink);\n",
              "        }\n",
              "      </script>\n",
              "    </div>\n",
              "  </div>\n",
              "  "
            ],
            "text/plain": [
              "   label                                              tweet\n",
              "0      0  [when, a, father, is, dysfunctional, and, is, ...\n",
              "1      0  [thanks, for, lyft, credit, i, cannot, use, be...\n",
              "2      0                            [bihday, your, majesty]\n",
              "3      0  [model, i, love, you, take, with, you, all, th...\n",
              "4      0             [factsguide, society, now, motivation]"
            ]
          },
          "metadata": {},
          "execution_count": 18
        }
      ]
    },
    {
      "cell_type": "markdown",
      "source": [
        "### Convert to lowercase"
      ],
      "metadata": {
        "id": "WAM_wafwCjIL"
      },
      "id": "WAM_wafwCjIL"
    },
    {
      "cell_type": "code",
      "source": [
        "def to_lowercase(words):\n",
        "    \"\"\"Convert all characters to lowercase from list of tokenized words\"\"\"\n",
        "    new_words = []\n",
        "    for word in words:\n",
        "        new_word = word.lower()\n",
        "        new_words.append(new_word)\n",
        "    return new_words\n",
        "trimmed_data['tweet'] = trimmed_data['tweet'].apply(lambda x: to_lowercase(x))\n",
        "\n",
        "trimmed_data.head()"
      ],
      "metadata": {
        "colab": {
          "base_uri": "https://localhost:8080/",
          "height": 0
        },
        "id": "jypNZP4VCV9p",
        "outputId": "f120e473-6275-41cf-c66d-489c27cd34fc"
      },
      "id": "jypNZP4VCV9p",
      "execution_count": 19,
      "outputs": [
        {
          "output_type": "execute_result",
          "data": {
            "text/html": [
              "\n",
              "  <div id=\"df-3b580673-0884-45fe-981b-e12286f12e14\">\n",
              "    <div class=\"colab-df-container\">\n",
              "      <div>\n",
              "<style scoped>\n",
              "    .dataframe tbody tr th:only-of-type {\n",
              "        vertical-align: middle;\n",
              "    }\n",
              "\n",
              "    .dataframe tbody tr th {\n",
              "        vertical-align: top;\n",
              "    }\n",
              "\n",
              "    .dataframe thead th {\n",
              "        text-align: right;\n",
              "    }\n",
              "</style>\n",
              "<table border=\"1\" class=\"dataframe\">\n",
              "  <thead>\n",
              "    <tr style=\"text-align: right;\">\n",
              "      <th></th>\n",
              "      <th>label</th>\n",
              "      <th>tweet</th>\n",
              "    </tr>\n",
              "  </thead>\n",
              "  <tbody>\n",
              "    <tr>\n",
              "      <th>0</th>\n",
              "      <td>0</td>\n",
              "      <td>[when, a, father, is, dysfunctional, and, is, ...</td>\n",
              "    </tr>\n",
              "    <tr>\n",
              "      <th>1</th>\n",
              "      <td>0</td>\n",
              "      <td>[thanks, for, lyft, credit, i, cannot, use, be...</td>\n",
              "    </tr>\n",
              "    <tr>\n",
              "      <th>2</th>\n",
              "      <td>0</td>\n",
              "      <td>[bihday, your, majesty]</td>\n",
              "    </tr>\n",
              "    <tr>\n",
              "      <th>3</th>\n",
              "      <td>0</td>\n",
              "      <td>[model, i, love, you, take, with, you, all, th...</td>\n",
              "    </tr>\n",
              "    <tr>\n",
              "      <th>4</th>\n",
              "      <td>0</td>\n",
              "      <td>[factsguide, society, now, motivation]</td>\n",
              "    </tr>\n",
              "  </tbody>\n",
              "</table>\n",
              "</div>\n",
              "      <button class=\"colab-df-convert\" onclick=\"convertToInteractive('df-3b580673-0884-45fe-981b-e12286f12e14')\"\n",
              "              title=\"Convert this dataframe to an interactive table.\"\n",
              "              style=\"display:none;\">\n",
              "        \n",
              "  <svg xmlns=\"http://www.w3.org/2000/svg\" height=\"24px\"viewBox=\"0 0 24 24\"\n",
              "       width=\"24px\">\n",
              "    <path d=\"M0 0h24v24H0V0z\" fill=\"none\"/>\n",
              "    <path d=\"M18.56 5.44l.94 2.06.94-2.06 2.06-.94-2.06-.94-.94-2.06-.94 2.06-2.06.94zm-11 1L8.5 8.5l.94-2.06 2.06-.94-2.06-.94L8.5 2.5l-.94 2.06-2.06.94zm10 10l.94 2.06.94-2.06 2.06-.94-2.06-.94-.94-2.06-.94 2.06-2.06.94z\"/><path d=\"M17.41 7.96l-1.37-1.37c-.4-.4-.92-.59-1.43-.59-.52 0-1.04.2-1.43.59L10.3 9.45l-7.72 7.72c-.78.78-.78 2.05 0 2.83L4 21.41c.39.39.9.59 1.41.59.51 0 1.02-.2 1.41-.59l7.78-7.78 2.81-2.81c.8-.78.8-2.07 0-2.86zM5.41 20L4 18.59l7.72-7.72 1.47 1.35L5.41 20z\"/>\n",
              "  </svg>\n",
              "      </button>\n",
              "      \n",
              "  <style>\n",
              "    .colab-df-container {\n",
              "      display:flex;\n",
              "      flex-wrap:wrap;\n",
              "      gap: 12px;\n",
              "    }\n",
              "\n",
              "    .colab-df-convert {\n",
              "      background-color: #E8F0FE;\n",
              "      border: none;\n",
              "      border-radius: 50%;\n",
              "      cursor: pointer;\n",
              "      display: none;\n",
              "      fill: #1967D2;\n",
              "      height: 32px;\n",
              "      padding: 0 0 0 0;\n",
              "      width: 32px;\n",
              "    }\n",
              "\n",
              "    .colab-df-convert:hover {\n",
              "      background-color: #E2EBFA;\n",
              "      box-shadow: 0px 1px 2px rgba(60, 64, 67, 0.3), 0px 1px 3px 1px rgba(60, 64, 67, 0.15);\n",
              "      fill: #174EA6;\n",
              "    }\n",
              "\n",
              "    [theme=dark] .colab-df-convert {\n",
              "      background-color: #3B4455;\n",
              "      fill: #D2E3FC;\n",
              "    }\n",
              "\n",
              "    [theme=dark] .colab-df-convert:hover {\n",
              "      background-color: #434B5C;\n",
              "      box-shadow: 0px 1px 3px 1px rgba(0, 0, 0, 0.15);\n",
              "      filter: drop-shadow(0px 1px 2px rgba(0, 0, 0, 0.3));\n",
              "      fill: #FFFFFF;\n",
              "    }\n",
              "  </style>\n",
              "\n",
              "      <script>\n",
              "        const buttonEl =\n",
              "          document.querySelector('#df-3b580673-0884-45fe-981b-e12286f12e14 button.colab-df-convert');\n",
              "        buttonEl.style.display =\n",
              "          google.colab.kernel.accessAllowed ? 'block' : 'none';\n",
              "\n",
              "        async function convertToInteractive(key) {\n",
              "          const element = document.querySelector('#df-3b580673-0884-45fe-981b-e12286f12e14');\n",
              "          const dataTable =\n",
              "            await google.colab.kernel.invokeFunction('convertToInteractive',\n",
              "                                                     [key], {});\n",
              "          if (!dataTable) return;\n",
              "\n",
              "          const docLinkHtml = 'Like what you see? Visit the ' +\n",
              "            '<a target=\"_blank\" href=https://colab.research.google.com/notebooks/data_table.ipynb>data table notebook</a>'\n",
              "            + ' to learn more about interactive tables.';\n",
              "          element.innerHTML = '';\n",
              "          dataTable['output_type'] = 'display_data';\n",
              "          await google.colab.output.renderOutput(dataTable, element);\n",
              "          const docLink = document.createElement('div');\n",
              "          docLink.innerHTML = docLinkHtml;\n",
              "          element.appendChild(docLink);\n",
              "        }\n",
              "      </script>\n",
              "    </div>\n",
              "  </div>\n",
              "  "
            ],
            "text/plain": [
              "   label                                              tweet\n",
              "0      0  [when, a, father, is, dysfunctional, and, is, ...\n",
              "1      0  [thanks, for, lyft, credit, i, cannot, use, be...\n",
              "2      0                            [bihday, your, majesty]\n",
              "3      0  [model, i, love, you, take, with, you, all, th...\n",
              "4      0             [factsguide, society, now, motivation]"
            ]
          },
          "metadata": {},
          "execution_count": 19
        }
      ]
    },
    {
      "cell_type": "markdown",
      "source": [
        "### Stemming"
      ],
      "metadata": {
        "id": "hA-HanAWTblv"
      },
      "id": "hA-HanAWTblv"
    },
    {
      "cell_type": "code",
      "source": [
        "lemmatizer = WordNetLemmatizer()\n",
        "def lemmatize_list(words):\n",
        "    new_words = []\n",
        "    for word in words:\n",
        "      new_words.append(lemmatizer.lemmatize(word, pos='v'))\n",
        "    return new_words\n",
        "trimmed_data['tweet'] = trimmed_data['tweet'].apply(lambda x: lemmatize_list(x))    \n",
        "trimmed_data.head()"
      ],
      "metadata": {
        "colab": {
          "base_uri": "https://localhost:8080/",
          "height": 0
        },
        "id": "-1Hk7-A3TTpq",
        "outputId": "3b5aa0e6-be6f-4713-d45d-b258efc3adcd"
      },
      "id": "-1Hk7-A3TTpq",
      "execution_count": 20,
      "outputs": [
        {
          "output_type": "execute_result",
          "data": {
            "text/html": [
              "\n",
              "  <div id=\"df-1b106878-dd20-48d3-a13f-afadcae819ec\">\n",
              "    <div class=\"colab-df-container\">\n",
              "      <div>\n",
              "<style scoped>\n",
              "    .dataframe tbody tr th:only-of-type {\n",
              "        vertical-align: middle;\n",
              "    }\n",
              "\n",
              "    .dataframe tbody tr th {\n",
              "        vertical-align: top;\n",
              "    }\n",
              "\n",
              "    .dataframe thead th {\n",
              "        text-align: right;\n",
              "    }\n",
              "</style>\n",
              "<table border=\"1\" class=\"dataframe\">\n",
              "  <thead>\n",
              "    <tr style=\"text-align: right;\">\n",
              "      <th></th>\n",
              "      <th>label</th>\n",
              "      <th>tweet</th>\n",
              "    </tr>\n",
              "  </thead>\n",
              "  <tbody>\n",
              "    <tr>\n",
              "      <th>0</th>\n",
              "      <td>0</td>\n",
              "      <td>[when, a, father, be, dysfunctional, and, be, ...</td>\n",
              "    </tr>\n",
              "    <tr>\n",
              "      <th>1</th>\n",
              "      <td>0</td>\n",
              "      <td>[thank, for, lyft, credit, i, cannot, use, bec...</td>\n",
              "    </tr>\n",
              "    <tr>\n",
              "      <th>2</th>\n",
              "      <td>0</td>\n",
              "      <td>[bihday, your, majesty]</td>\n",
              "    </tr>\n",
              "    <tr>\n",
              "      <th>3</th>\n",
              "      <td>0</td>\n",
              "      <td>[model, i, love, you, take, with, you, all, th...</td>\n",
              "    </tr>\n",
              "    <tr>\n",
              "      <th>4</th>\n",
              "      <td>0</td>\n",
              "      <td>[factsguide, society, now, motivation]</td>\n",
              "    </tr>\n",
              "  </tbody>\n",
              "</table>\n",
              "</div>\n",
              "      <button class=\"colab-df-convert\" onclick=\"convertToInteractive('df-1b106878-dd20-48d3-a13f-afadcae819ec')\"\n",
              "              title=\"Convert this dataframe to an interactive table.\"\n",
              "              style=\"display:none;\">\n",
              "        \n",
              "  <svg xmlns=\"http://www.w3.org/2000/svg\" height=\"24px\"viewBox=\"0 0 24 24\"\n",
              "       width=\"24px\">\n",
              "    <path d=\"M0 0h24v24H0V0z\" fill=\"none\"/>\n",
              "    <path d=\"M18.56 5.44l.94 2.06.94-2.06 2.06-.94-2.06-.94-.94-2.06-.94 2.06-2.06.94zm-11 1L8.5 8.5l.94-2.06 2.06-.94-2.06-.94L8.5 2.5l-.94 2.06-2.06.94zm10 10l.94 2.06.94-2.06 2.06-.94-2.06-.94-.94-2.06-.94 2.06-2.06.94z\"/><path d=\"M17.41 7.96l-1.37-1.37c-.4-.4-.92-.59-1.43-.59-.52 0-1.04.2-1.43.59L10.3 9.45l-7.72 7.72c-.78.78-.78 2.05 0 2.83L4 21.41c.39.39.9.59 1.41.59.51 0 1.02-.2 1.41-.59l7.78-7.78 2.81-2.81c.8-.78.8-2.07 0-2.86zM5.41 20L4 18.59l7.72-7.72 1.47 1.35L5.41 20z\"/>\n",
              "  </svg>\n",
              "      </button>\n",
              "      \n",
              "  <style>\n",
              "    .colab-df-container {\n",
              "      display:flex;\n",
              "      flex-wrap:wrap;\n",
              "      gap: 12px;\n",
              "    }\n",
              "\n",
              "    .colab-df-convert {\n",
              "      background-color: #E8F0FE;\n",
              "      border: none;\n",
              "      border-radius: 50%;\n",
              "      cursor: pointer;\n",
              "      display: none;\n",
              "      fill: #1967D2;\n",
              "      height: 32px;\n",
              "      padding: 0 0 0 0;\n",
              "      width: 32px;\n",
              "    }\n",
              "\n",
              "    .colab-df-convert:hover {\n",
              "      background-color: #E2EBFA;\n",
              "      box-shadow: 0px 1px 2px rgba(60, 64, 67, 0.3), 0px 1px 3px 1px rgba(60, 64, 67, 0.15);\n",
              "      fill: #174EA6;\n",
              "    }\n",
              "\n",
              "    [theme=dark] .colab-df-convert {\n",
              "      background-color: #3B4455;\n",
              "      fill: #D2E3FC;\n",
              "    }\n",
              "\n",
              "    [theme=dark] .colab-df-convert:hover {\n",
              "      background-color: #434B5C;\n",
              "      box-shadow: 0px 1px 3px 1px rgba(0, 0, 0, 0.15);\n",
              "      filter: drop-shadow(0px 1px 2px rgba(0, 0, 0, 0.3));\n",
              "      fill: #FFFFFF;\n",
              "    }\n",
              "  </style>\n",
              "\n",
              "      <script>\n",
              "        const buttonEl =\n",
              "          document.querySelector('#df-1b106878-dd20-48d3-a13f-afadcae819ec button.colab-df-convert');\n",
              "        buttonEl.style.display =\n",
              "          google.colab.kernel.accessAllowed ? 'block' : 'none';\n",
              "\n",
              "        async function convertToInteractive(key) {\n",
              "          const element = document.querySelector('#df-1b106878-dd20-48d3-a13f-afadcae819ec');\n",
              "          const dataTable =\n",
              "            await google.colab.kernel.invokeFunction('convertToInteractive',\n",
              "                                                     [key], {});\n",
              "          if (!dataTable) return;\n",
              "\n",
              "          const docLinkHtml = 'Like what you see? Visit the ' +\n",
              "            '<a target=\"_blank\" href=https://colab.research.google.com/notebooks/data_table.ipynb>data table notebook</a>'\n",
              "            + ' to learn more about interactive tables.';\n",
              "          element.innerHTML = '';\n",
              "          dataTable['output_type'] = 'display_data';\n",
              "          await google.colab.output.renderOutput(dataTable, element);\n",
              "          const docLink = document.createElement('div');\n",
              "          docLink.innerHTML = docLinkHtml;\n",
              "          element.appendChild(docLink);\n",
              "        }\n",
              "      </script>\n",
              "    </div>\n",
              "  </div>\n",
              "  "
            ],
            "text/plain": [
              "   label                                              tweet\n",
              "0      0  [when, a, father, be, dysfunctional, and, be, ...\n",
              "1      0  [thank, for, lyft, credit, i, cannot, use, bec...\n",
              "2      0                            [bihday, your, majesty]\n",
              "3      0  [model, i, love, you, take, with, you, all, th...\n",
              "4      0             [factsguide, society, now, motivation]"
            ]
          },
          "metadata": {},
          "execution_count": 20
        }
      ]
    },
    {
      "cell_type": "markdown",
      "source": [
        "### Remove stop words"
      ],
      "metadata": {
        "id": "Ksp9IAPfxdLy"
      },
      "id": "Ksp9IAPfxdLy"
    },
    {
      "cell_type": "code",
      "source": [
        "stop_words = set(stopwords.words('english'))\n",
        "def remove_stopwords(words):\n",
        "    new_words = []\n",
        "    for word in words:\n",
        "      if word not in stop_words:\n",
        "          new_words.append(word)\n",
        "    return new_words\n",
        "trimmed_data['tweet'] = trimmed_data['tweet'].apply(lambda x: remove_stopwords(np.array(x)))    \n",
        "trimmed_data.head()"
      ],
      "metadata": {
        "id": "5xPyxwViuUgb",
        "outputId": "d956250a-2e80-44b2-d7da-a0ea3feeb646",
        "colab": {
          "base_uri": "https://localhost:8080/",
          "height": 0
        }
      },
      "id": "5xPyxwViuUgb",
      "execution_count": 21,
      "outputs": [
        {
          "output_type": "execute_result",
          "data": {
            "text/html": [
              "\n",
              "  <div id=\"df-6a35c5cf-78ac-4a9f-85a1-4b91797232db\">\n",
              "    <div class=\"colab-df-container\">\n",
              "      <div>\n",
              "<style scoped>\n",
              "    .dataframe tbody tr th:only-of-type {\n",
              "        vertical-align: middle;\n",
              "    }\n",
              "\n",
              "    .dataframe tbody tr th {\n",
              "        vertical-align: top;\n",
              "    }\n",
              "\n",
              "    .dataframe thead th {\n",
              "        text-align: right;\n",
              "    }\n",
              "</style>\n",
              "<table border=\"1\" class=\"dataframe\">\n",
              "  <thead>\n",
              "    <tr style=\"text-align: right;\">\n",
              "      <th></th>\n",
              "      <th>label</th>\n",
              "      <th>tweet</th>\n",
              "    </tr>\n",
              "  </thead>\n",
              "  <tbody>\n",
              "    <tr>\n",
              "      <th>0</th>\n",
              "      <td>0</td>\n",
              "      <td>[father, dysfunctional, selfish, drag, kid, dy...</td>\n",
              "    </tr>\n",
              "    <tr>\n",
              "      <th>1</th>\n",
              "      <td>0</td>\n",
              "      <td>[thank, lyft, credit, cannot, use, do not, off...</td>\n",
              "    </tr>\n",
              "    <tr>\n",
              "      <th>2</th>\n",
              "      <td>0</td>\n",
              "      <td>[bihday, majesty]</td>\n",
              "    </tr>\n",
              "    <tr>\n",
              "      <th>3</th>\n",
              "      <td>0</td>\n",
              "      <td>[model, love, take, time, urð, ðððð, ððð]</td>\n",
              "    </tr>\n",
              "    <tr>\n",
              "      <th>4</th>\n",
              "      <td>0</td>\n",
              "      <td>[factsguide, society, motivation]</td>\n",
              "    </tr>\n",
              "  </tbody>\n",
              "</table>\n",
              "</div>\n",
              "      <button class=\"colab-df-convert\" onclick=\"convertToInteractive('df-6a35c5cf-78ac-4a9f-85a1-4b91797232db')\"\n",
              "              title=\"Convert this dataframe to an interactive table.\"\n",
              "              style=\"display:none;\">\n",
              "        \n",
              "  <svg xmlns=\"http://www.w3.org/2000/svg\" height=\"24px\"viewBox=\"0 0 24 24\"\n",
              "       width=\"24px\">\n",
              "    <path d=\"M0 0h24v24H0V0z\" fill=\"none\"/>\n",
              "    <path d=\"M18.56 5.44l.94 2.06.94-2.06 2.06-.94-2.06-.94-.94-2.06-.94 2.06-2.06.94zm-11 1L8.5 8.5l.94-2.06 2.06-.94-2.06-.94L8.5 2.5l-.94 2.06-2.06.94zm10 10l.94 2.06.94-2.06 2.06-.94-2.06-.94-.94-2.06-.94 2.06-2.06.94z\"/><path d=\"M17.41 7.96l-1.37-1.37c-.4-.4-.92-.59-1.43-.59-.52 0-1.04.2-1.43.59L10.3 9.45l-7.72 7.72c-.78.78-.78 2.05 0 2.83L4 21.41c.39.39.9.59 1.41.59.51 0 1.02-.2 1.41-.59l7.78-7.78 2.81-2.81c.8-.78.8-2.07 0-2.86zM5.41 20L4 18.59l7.72-7.72 1.47 1.35L5.41 20z\"/>\n",
              "  </svg>\n",
              "      </button>\n",
              "      \n",
              "  <style>\n",
              "    .colab-df-container {\n",
              "      display:flex;\n",
              "      flex-wrap:wrap;\n",
              "      gap: 12px;\n",
              "    }\n",
              "\n",
              "    .colab-df-convert {\n",
              "      background-color: #E8F0FE;\n",
              "      border: none;\n",
              "      border-radius: 50%;\n",
              "      cursor: pointer;\n",
              "      display: none;\n",
              "      fill: #1967D2;\n",
              "      height: 32px;\n",
              "      padding: 0 0 0 0;\n",
              "      width: 32px;\n",
              "    }\n",
              "\n",
              "    .colab-df-convert:hover {\n",
              "      background-color: #E2EBFA;\n",
              "      box-shadow: 0px 1px 2px rgba(60, 64, 67, 0.3), 0px 1px 3px 1px rgba(60, 64, 67, 0.15);\n",
              "      fill: #174EA6;\n",
              "    }\n",
              "\n",
              "    [theme=dark] .colab-df-convert {\n",
              "      background-color: #3B4455;\n",
              "      fill: #D2E3FC;\n",
              "    }\n",
              "\n",
              "    [theme=dark] .colab-df-convert:hover {\n",
              "      background-color: #434B5C;\n",
              "      box-shadow: 0px 1px 3px 1px rgba(0, 0, 0, 0.15);\n",
              "      filter: drop-shadow(0px 1px 2px rgba(0, 0, 0, 0.3));\n",
              "      fill: #FFFFFF;\n",
              "    }\n",
              "  </style>\n",
              "\n",
              "      <script>\n",
              "        const buttonEl =\n",
              "          document.querySelector('#df-6a35c5cf-78ac-4a9f-85a1-4b91797232db button.colab-df-convert');\n",
              "        buttonEl.style.display =\n",
              "          google.colab.kernel.accessAllowed ? 'block' : 'none';\n",
              "\n",
              "        async function convertToInteractive(key) {\n",
              "          const element = document.querySelector('#df-6a35c5cf-78ac-4a9f-85a1-4b91797232db');\n",
              "          const dataTable =\n",
              "            await google.colab.kernel.invokeFunction('convertToInteractive',\n",
              "                                                     [key], {});\n",
              "          if (!dataTable) return;\n",
              "\n",
              "          const docLinkHtml = 'Like what you see? Visit the ' +\n",
              "            '<a target=\"_blank\" href=https://colab.research.google.com/notebooks/data_table.ipynb>data table notebook</a>'\n",
              "            + ' to learn more about interactive tables.';\n",
              "          element.innerHTML = '';\n",
              "          dataTable['output_type'] = 'display_data';\n",
              "          await google.colab.output.renderOutput(dataTable, element);\n",
              "          const docLink = document.createElement('div');\n",
              "          docLink.innerHTML = docLinkHtml;\n",
              "          element.appendChild(docLink);\n",
              "        }\n",
              "      </script>\n",
              "    </div>\n",
              "  </div>\n",
              "  "
            ],
            "text/plain": [
              "   label                                              tweet\n",
              "0      0  [father, dysfunctional, selfish, drag, kid, dy...\n",
              "1      0  [thank, lyft, credit, cannot, use, do not, off...\n",
              "2      0                                  [bihday, majesty]\n",
              "3      0          [model, love, take, time, urð, ðððð, ððð]\n",
              "4      0                  [factsguide, society, motivation]"
            ]
          },
          "metadata": {},
          "execution_count": 21
        }
      ]
    },
    {
      "cell_type": "markdown",
      "source": [
        "### Normalize words"
      ],
      "metadata": {
        "id": "EehQBcTqTkjx"
      },
      "id": "EehQBcTqTkjx"
    },
    {
      "cell_type": "code",
      "source": [
        "def normalize(words):   \n",
        "    return ' '.join(words)\n",
        "trimmed_data['tweet'] = trimmed_data['tweet'].apply(lambda x: normalize(x))\n",
        "trimmed_data.head()"
      ],
      "metadata": {
        "colab": {
          "base_uri": "https://localhost:8080/",
          "height": 0
        },
        "id": "_aQO1RyUTiqJ",
        "outputId": "e80cd2c3-f791-4b3a-c964-06c744c9ed43"
      },
      "id": "_aQO1RyUTiqJ",
      "execution_count": 22,
      "outputs": [
        {
          "output_type": "execute_result",
          "data": {
            "text/html": [
              "\n",
              "  <div id=\"df-2c216bf6-703b-4ed4-b17e-2b5f58f4c676\">\n",
              "    <div class=\"colab-df-container\">\n",
              "      <div>\n",
              "<style scoped>\n",
              "    .dataframe tbody tr th:only-of-type {\n",
              "        vertical-align: middle;\n",
              "    }\n",
              "\n",
              "    .dataframe tbody tr th {\n",
              "        vertical-align: top;\n",
              "    }\n",
              "\n",
              "    .dataframe thead th {\n",
              "        text-align: right;\n",
              "    }\n",
              "</style>\n",
              "<table border=\"1\" class=\"dataframe\">\n",
              "  <thead>\n",
              "    <tr style=\"text-align: right;\">\n",
              "      <th></th>\n",
              "      <th>label</th>\n",
              "      <th>tweet</th>\n",
              "    </tr>\n",
              "  </thead>\n",
              "  <tbody>\n",
              "    <tr>\n",
              "      <th>0</th>\n",
              "      <td>0</td>\n",
              "      <td>father dysfunctional selfish drag kid dysfunct...</td>\n",
              "    </tr>\n",
              "    <tr>\n",
              "      <th>1</th>\n",
              "      <td>0</td>\n",
              "      <td>thank lyft credit cannot use do not offer whee...</td>\n",
              "    </tr>\n",
              "    <tr>\n",
              "      <th>2</th>\n",
              "      <td>0</td>\n",
              "      <td>bihday majesty</td>\n",
              "    </tr>\n",
              "    <tr>\n",
              "      <th>3</th>\n",
              "      <td>0</td>\n",
              "      <td>model love take time urð ðððð ððð</td>\n",
              "    </tr>\n",
              "    <tr>\n",
              "      <th>4</th>\n",
              "      <td>0</td>\n",
              "      <td>factsguide society motivation</td>\n",
              "    </tr>\n",
              "  </tbody>\n",
              "</table>\n",
              "</div>\n",
              "      <button class=\"colab-df-convert\" onclick=\"convertToInteractive('df-2c216bf6-703b-4ed4-b17e-2b5f58f4c676')\"\n",
              "              title=\"Convert this dataframe to an interactive table.\"\n",
              "              style=\"display:none;\">\n",
              "        \n",
              "  <svg xmlns=\"http://www.w3.org/2000/svg\" height=\"24px\"viewBox=\"0 0 24 24\"\n",
              "       width=\"24px\">\n",
              "    <path d=\"M0 0h24v24H0V0z\" fill=\"none\"/>\n",
              "    <path d=\"M18.56 5.44l.94 2.06.94-2.06 2.06-.94-2.06-.94-.94-2.06-.94 2.06-2.06.94zm-11 1L8.5 8.5l.94-2.06 2.06-.94-2.06-.94L8.5 2.5l-.94 2.06-2.06.94zm10 10l.94 2.06.94-2.06 2.06-.94-2.06-.94-.94-2.06-.94 2.06-2.06.94z\"/><path d=\"M17.41 7.96l-1.37-1.37c-.4-.4-.92-.59-1.43-.59-.52 0-1.04.2-1.43.59L10.3 9.45l-7.72 7.72c-.78.78-.78 2.05 0 2.83L4 21.41c.39.39.9.59 1.41.59.51 0 1.02-.2 1.41-.59l7.78-7.78 2.81-2.81c.8-.78.8-2.07 0-2.86zM5.41 20L4 18.59l7.72-7.72 1.47 1.35L5.41 20z\"/>\n",
              "  </svg>\n",
              "      </button>\n",
              "      \n",
              "  <style>\n",
              "    .colab-df-container {\n",
              "      display:flex;\n",
              "      flex-wrap:wrap;\n",
              "      gap: 12px;\n",
              "    }\n",
              "\n",
              "    .colab-df-convert {\n",
              "      background-color: #E8F0FE;\n",
              "      border: none;\n",
              "      border-radius: 50%;\n",
              "      cursor: pointer;\n",
              "      display: none;\n",
              "      fill: #1967D2;\n",
              "      height: 32px;\n",
              "      padding: 0 0 0 0;\n",
              "      width: 32px;\n",
              "    }\n",
              "\n",
              "    .colab-df-convert:hover {\n",
              "      background-color: #E2EBFA;\n",
              "      box-shadow: 0px 1px 2px rgba(60, 64, 67, 0.3), 0px 1px 3px 1px rgba(60, 64, 67, 0.15);\n",
              "      fill: #174EA6;\n",
              "    }\n",
              "\n",
              "    [theme=dark] .colab-df-convert {\n",
              "      background-color: #3B4455;\n",
              "      fill: #D2E3FC;\n",
              "    }\n",
              "\n",
              "    [theme=dark] .colab-df-convert:hover {\n",
              "      background-color: #434B5C;\n",
              "      box-shadow: 0px 1px 3px 1px rgba(0, 0, 0, 0.15);\n",
              "      filter: drop-shadow(0px 1px 2px rgba(0, 0, 0, 0.3));\n",
              "      fill: #FFFFFF;\n",
              "    }\n",
              "  </style>\n",
              "\n",
              "      <script>\n",
              "        const buttonEl =\n",
              "          document.querySelector('#df-2c216bf6-703b-4ed4-b17e-2b5f58f4c676 button.colab-df-convert');\n",
              "        buttonEl.style.display =\n",
              "          google.colab.kernel.accessAllowed ? 'block' : 'none';\n",
              "\n",
              "        async function convertToInteractive(key) {\n",
              "          const element = document.querySelector('#df-2c216bf6-703b-4ed4-b17e-2b5f58f4c676');\n",
              "          const dataTable =\n",
              "            await google.colab.kernel.invokeFunction('convertToInteractive',\n",
              "                                                     [key], {});\n",
              "          if (!dataTable) return;\n",
              "\n",
              "          const docLinkHtml = 'Like what you see? Visit the ' +\n",
              "            '<a target=\"_blank\" href=https://colab.research.google.com/notebooks/data_table.ipynb>data table notebook</a>'\n",
              "            + ' to learn more about interactive tables.';\n",
              "          element.innerHTML = '';\n",
              "          dataTable['output_type'] = 'display_data';\n",
              "          await google.colab.output.renderOutput(dataTable, element);\n",
              "          const docLink = document.createElement('div');\n",
              "          docLink.innerHTML = docLinkHtml;\n",
              "          element.appendChild(docLink);\n",
              "        }\n",
              "      </script>\n",
              "    </div>\n",
              "  </div>\n",
              "  "
            ],
            "text/plain": [
              "   label                                              tweet\n",
              "0      0  father dysfunctional selfish drag kid dysfunct...\n",
              "1      0  thank lyft credit cannot use do not offer whee...\n",
              "2      0                                     bihday majesty\n",
              "3      0                  model love take time urð ðððð ððð\n",
              "4      0                      factsguide society motivation"
            ]
          },
          "metadata": {},
          "execution_count": 22
        }
      ]
    },
    {
      "cell_type": "code",
      "source": [
        "trimmed_data_neutral = trimmed_data.loc[trimmed_data['label'] == 0]\n",
        "trimmed_data_hate_speech = trimmed_data.loc[trimmed_data['label'] == 1]"
      ],
      "metadata": {
        "id": "ynpZsbMphf5Z"
      },
      "id": "ynpZsbMphf5Z",
      "execution_count": 23,
      "outputs": []
    },
    {
      "cell_type": "code",
      "source": [
        "trimmed_data_neutral.head()"
      ],
      "metadata": {
        "id": "3MAxNrk5iE3Z",
        "outputId": "7631f197-55f1-4a50-c868-783fa8e07e2c",
        "colab": {
          "base_uri": "https://localhost:8080/",
          "height": 0
        }
      },
      "id": "3MAxNrk5iE3Z",
      "execution_count": 24,
      "outputs": [
        {
          "output_type": "execute_result",
          "data": {
            "text/html": [
              "\n",
              "  <div id=\"df-d35ffdcc-8568-44ac-8817-1966ccb477cb\">\n",
              "    <div class=\"colab-df-container\">\n",
              "      <div>\n",
              "<style scoped>\n",
              "    .dataframe tbody tr th:only-of-type {\n",
              "        vertical-align: middle;\n",
              "    }\n",
              "\n",
              "    .dataframe tbody tr th {\n",
              "        vertical-align: top;\n",
              "    }\n",
              "\n",
              "    .dataframe thead th {\n",
              "        text-align: right;\n",
              "    }\n",
              "</style>\n",
              "<table border=\"1\" class=\"dataframe\">\n",
              "  <thead>\n",
              "    <tr style=\"text-align: right;\">\n",
              "      <th></th>\n",
              "      <th>label</th>\n",
              "      <th>tweet</th>\n",
              "    </tr>\n",
              "  </thead>\n",
              "  <tbody>\n",
              "    <tr>\n",
              "      <th>0</th>\n",
              "      <td>0</td>\n",
              "      <td>father dysfunctional selfish drag kid dysfunct...</td>\n",
              "    </tr>\n",
              "    <tr>\n",
              "      <th>1</th>\n",
              "      <td>0</td>\n",
              "      <td>thank lyft credit cannot use do not offer whee...</td>\n",
              "    </tr>\n",
              "    <tr>\n",
              "      <th>2</th>\n",
              "      <td>0</td>\n",
              "      <td>bihday majesty</td>\n",
              "    </tr>\n",
              "    <tr>\n",
              "      <th>3</th>\n",
              "      <td>0</td>\n",
              "      <td>model love take time urð ðððð ððð</td>\n",
              "    </tr>\n",
              "    <tr>\n",
              "      <th>4</th>\n",
              "      <td>0</td>\n",
              "      <td>factsguide society motivation</td>\n",
              "    </tr>\n",
              "  </tbody>\n",
              "</table>\n",
              "</div>\n",
              "      <button class=\"colab-df-convert\" onclick=\"convertToInteractive('df-d35ffdcc-8568-44ac-8817-1966ccb477cb')\"\n",
              "              title=\"Convert this dataframe to an interactive table.\"\n",
              "              style=\"display:none;\">\n",
              "        \n",
              "  <svg xmlns=\"http://www.w3.org/2000/svg\" height=\"24px\"viewBox=\"0 0 24 24\"\n",
              "       width=\"24px\">\n",
              "    <path d=\"M0 0h24v24H0V0z\" fill=\"none\"/>\n",
              "    <path d=\"M18.56 5.44l.94 2.06.94-2.06 2.06-.94-2.06-.94-.94-2.06-.94 2.06-2.06.94zm-11 1L8.5 8.5l.94-2.06 2.06-.94-2.06-.94L8.5 2.5l-.94 2.06-2.06.94zm10 10l.94 2.06.94-2.06 2.06-.94-2.06-.94-.94-2.06-.94 2.06-2.06.94z\"/><path d=\"M17.41 7.96l-1.37-1.37c-.4-.4-.92-.59-1.43-.59-.52 0-1.04.2-1.43.59L10.3 9.45l-7.72 7.72c-.78.78-.78 2.05 0 2.83L4 21.41c.39.39.9.59 1.41.59.51 0 1.02-.2 1.41-.59l7.78-7.78 2.81-2.81c.8-.78.8-2.07 0-2.86zM5.41 20L4 18.59l7.72-7.72 1.47 1.35L5.41 20z\"/>\n",
              "  </svg>\n",
              "      </button>\n",
              "      \n",
              "  <style>\n",
              "    .colab-df-container {\n",
              "      display:flex;\n",
              "      flex-wrap:wrap;\n",
              "      gap: 12px;\n",
              "    }\n",
              "\n",
              "    .colab-df-convert {\n",
              "      background-color: #E8F0FE;\n",
              "      border: none;\n",
              "      border-radius: 50%;\n",
              "      cursor: pointer;\n",
              "      display: none;\n",
              "      fill: #1967D2;\n",
              "      height: 32px;\n",
              "      padding: 0 0 0 0;\n",
              "      width: 32px;\n",
              "    }\n",
              "\n",
              "    .colab-df-convert:hover {\n",
              "      background-color: #E2EBFA;\n",
              "      box-shadow: 0px 1px 2px rgba(60, 64, 67, 0.3), 0px 1px 3px 1px rgba(60, 64, 67, 0.15);\n",
              "      fill: #174EA6;\n",
              "    }\n",
              "\n",
              "    [theme=dark] .colab-df-convert {\n",
              "      background-color: #3B4455;\n",
              "      fill: #D2E3FC;\n",
              "    }\n",
              "\n",
              "    [theme=dark] .colab-df-convert:hover {\n",
              "      background-color: #434B5C;\n",
              "      box-shadow: 0px 1px 3px 1px rgba(0, 0, 0, 0.15);\n",
              "      filter: drop-shadow(0px 1px 2px rgba(0, 0, 0, 0.3));\n",
              "      fill: #FFFFFF;\n",
              "    }\n",
              "  </style>\n",
              "\n",
              "      <script>\n",
              "        const buttonEl =\n",
              "          document.querySelector('#df-d35ffdcc-8568-44ac-8817-1966ccb477cb button.colab-df-convert');\n",
              "        buttonEl.style.display =\n",
              "          google.colab.kernel.accessAllowed ? 'block' : 'none';\n",
              "\n",
              "        async function convertToInteractive(key) {\n",
              "          const element = document.querySelector('#df-d35ffdcc-8568-44ac-8817-1966ccb477cb');\n",
              "          const dataTable =\n",
              "            await google.colab.kernel.invokeFunction('convertToInteractive',\n",
              "                                                     [key], {});\n",
              "          if (!dataTable) return;\n",
              "\n",
              "          const docLinkHtml = 'Like what you see? Visit the ' +\n",
              "            '<a target=\"_blank\" href=https://colab.research.google.com/notebooks/data_table.ipynb>data table notebook</a>'\n",
              "            + ' to learn more about interactive tables.';\n",
              "          element.innerHTML = '';\n",
              "          dataTable['output_type'] = 'display_data';\n",
              "          await google.colab.output.renderOutput(dataTable, element);\n",
              "          const docLink = document.createElement('div');\n",
              "          docLink.innerHTML = docLinkHtml;\n",
              "          element.appendChild(docLink);\n",
              "        }\n",
              "      </script>\n",
              "    </div>\n",
              "  </div>\n",
              "  "
            ],
            "text/plain": [
              "   label                                              tweet\n",
              "0      0  father dysfunctional selfish drag kid dysfunct...\n",
              "1      0  thank lyft credit cannot use do not offer whee...\n",
              "2      0                                     bihday majesty\n",
              "3      0                  model love take time urð ðððð ððð\n",
              "4      0                      factsguide society motivation"
            ]
          },
          "metadata": {},
          "execution_count": 24
        }
      ]
    },
    {
      "cell_type": "code",
      "source": [
        "trimmed_data_hate_speech.head()"
      ],
      "metadata": {
        "id": "F4_R6uJptT7M",
        "outputId": "e4956bbc-0e18-4ff0-9315-33a14a615ab4",
        "colab": {
          "base_uri": "https://localhost:8080/",
          "height": 0
        }
      },
      "id": "F4_R6uJptT7M",
      "execution_count": 25,
      "outputs": [
        {
          "output_type": "execute_result",
          "data": {
            "text/html": [
              "\n",
              "  <div id=\"df-8143534f-f1eb-403d-b079-6fae359f5b77\">\n",
              "    <div class=\"colab-df-container\">\n",
              "      <div>\n",
              "<style scoped>\n",
              "    .dataframe tbody tr th:only-of-type {\n",
              "        vertical-align: middle;\n",
              "    }\n",
              "\n",
              "    .dataframe tbody tr th {\n",
              "        vertical-align: top;\n",
              "    }\n",
              "\n",
              "    .dataframe thead th {\n",
              "        text-align: right;\n",
              "    }\n",
              "</style>\n",
              "<table border=\"1\" class=\"dataframe\">\n",
              "  <thead>\n",
              "    <tr style=\"text-align: right;\">\n",
              "      <th></th>\n",
              "      <th>label</th>\n",
              "      <th>tweet</th>\n",
              "    </tr>\n",
              "  </thead>\n",
              "  <tbody>\n",
              "    <tr>\n",
              "      <th>13</th>\n",
              "      <td>1</td>\n",
              "      <td>cnn call michigan middle school build wall cha...</td>\n",
              "    </tr>\n",
              "    <tr>\n",
              "      <th>14</th>\n",
              "      <td>1</td>\n",
              "      <td>comment australia opkillingbay seashepherd hel...</td>\n",
              "    </tr>\n",
              "    <tr>\n",
              "      <th>17</th>\n",
              "      <td>1</td>\n",
              "      <td>retweet agree</td>\n",
              "    </tr>\n",
              "    <tr>\n",
              "      <th>23</th>\n",
              "      <td>1</td>\n",
              "      <td>lumpy say prove lumpy</td>\n",
              "    </tr>\n",
              "    <tr>\n",
              "      <th>34</th>\n",
              "      <td>1</td>\n",
              "      <td>it is unbelievable 21st century we would need ...</td>\n",
              "    </tr>\n",
              "  </tbody>\n",
              "</table>\n",
              "</div>\n",
              "      <button class=\"colab-df-convert\" onclick=\"convertToInteractive('df-8143534f-f1eb-403d-b079-6fae359f5b77')\"\n",
              "              title=\"Convert this dataframe to an interactive table.\"\n",
              "              style=\"display:none;\">\n",
              "        \n",
              "  <svg xmlns=\"http://www.w3.org/2000/svg\" height=\"24px\"viewBox=\"0 0 24 24\"\n",
              "       width=\"24px\">\n",
              "    <path d=\"M0 0h24v24H0V0z\" fill=\"none\"/>\n",
              "    <path d=\"M18.56 5.44l.94 2.06.94-2.06 2.06-.94-2.06-.94-.94-2.06-.94 2.06-2.06.94zm-11 1L8.5 8.5l.94-2.06 2.06-.94-2.06-.94L8.5 2.5l-.94 2.06-2.06.94zm10 10l.94 2.06.94-2.06 2.06-.94-2.06-.94-.94-2.06-.94 2.06-2.06.94z\"/><path d=\"M17.41 7.96l-1.37-1.37c-.4-.4-.92-.59-1.43-.59-.52 0-1.04.2-1.43.59L10.3 9.45l-7.72 7.72c-.78.78-.78 2.05 0 2.83L4 21.41c.39.39.9.59 1.41.59.51 0 1.02-.2 1.41-.59l7.78-7.78 2.81-2.81c.8-.78.8-2.07 0-2.86zM5.41 20L4 18.59l7.72-7.72 1.47 1.35L5.41 20z\"/>\n",
              "  </svg>\n",
              "      </button>\n",
              "      \n",
              "  <style>\n",
              "    .colab-df-container {\n",
              "      display:flex;\n",
              "      flex-wrap:wrap;\n",
              "      gap: 12px;\n",
              "    }\n",
              "\n",
              "    .colab-df-convert {\n",
              "      background-color: #E8F0FE;\n",
              "      border: none;\n",
              "      border-radius: 50%;\n",
              "      cursor: pointer;\n",
              "      display: none;\n",
              "      fill: #1967D2;\n",
              "      height: 32px;\n",
              "      padding: 0 0 0 0;\n",
              "      width: 32px;\n",
              "    }\n",
              "\n",
              "    .colab-df-convert:hover {\n",
              "      background-color: #E2EBFA;\n",
              "      box-shadow: 0px 1px 2px rgba(60, 64, 67, 0.3), 0px 1px 3px 1px rgba(60, 64, 67, 0.15);\n",
              "      fill: #174EA6;\n",
              "    }\n",
              "\n",
              "    [theme=dark] .colab-df-convert {\n",
              "      background-color: #3B4455;\n",
              "      fill: #D2E3FC;\n",
              "    }\n",
              "\n",
              "    [theme=dark] .colab-df-convert:hover {\n",
              "      background-color: #434B5C;\n",
              "      box-shadow: 0px 1px 3px 1px rgba(0, 0, 0, 0.15);\n",
              "      filter: drop-shadow(0px 1px 2px rgba(0, 0, 0, 0.3));\n",
              "      fill: #FFFFFF;\n",
              "    }\n",
              "  </style>\n",
              "\n",
              "      <script>\n",
              "        const buttonEl =\n",
              "          document.querySelector('#df-8143534f-f1eb-403d-b079-6fae359f5b77 button.colab-df-convert');\n",
              "        buttonEl.style.display =\n",
              "          google.colab.kernel.accessAllowed ? 'block' : 'none';\n",
              "\n",
              "        async function convertToInteractive(key) {\n",
              "          const element = document.querySelector('#df-8143534f-f1eb-403d-b079-6fae359f5b77');\n",
              "          const dataTable =\n",
              "            await google.colab.kernel.invokeFunction('convertToInteractive',\n",
              "                                                     [key], {});\n",
              "          if (!dataTable) return;\n",
              "\n",
              "          const docLinkHtml = 'Like what you see? Visit the ' +\n",
              "            '<a target=\"_blank\" href=https://colab.research.google.com/notebooks/data_table.ipynb>data table notebook</a>'\n",
              "            + ' to learn more about interactive tables.';\n",
              "          element.innerHTML = '';\n",
              "          dataTable['output_type'] = 'display_data';\n",
              "          await google.colab.output.renderOutput(dataTable, element);\n",
              "          const docLink = document.createElement('div');\n",
              "          docLink.innerHTML = docLinkHtml;\n",
              "          element.appendChild(docLink);\n",
              "        }\n",
              "      </script>\n",
              "    </div>\n",
              "  </div>\n",
              "  "
            ],
            "text/plain": [
              "    label                                              tweet\n",
              "13      1  cnn call michigan middle school build wall cha...\n",
              "14      1  comment australia opkillingbay seashepherd hel...\n",
              "17      1                                      retweet agree\n",
              "23      1                              lumpy say prove lumpy\n",
              "34      1  it is unbelievable 21st century we would need ..."
            ]
          },
          "metadata": {},
          "execution_count": 25
        }
      ]
    },
    {
      "cell_type": "markdown",
      "source": [
        "### Frequent words after pre-processing"
      ],
      "metadata": {
        "id": "nnoYXQW40sSO"
      },
      "id": "nnoYXQW40sSO"
    },
    {
      "cell_type": "code",
      "source": [
        "neutral_top = top_words(trimmed_data_neutral)\n",
        "neutral_top.head(10).style.background_gradient(cmap='Reds')"
      ],
      "metadata": {
        "id": "prRY3Wwshm_z",
        "outputId": "738a1f20-63df-4c12-acb0-4610e6f9e251",
        "colab": {
          "base_uri": "https://localhost:8080/",
          "height": 0
        }
      },
      "id": "prRY3Wwshm_z",
      "execution_count": 26,
      "outputs": [
        {
          "output_type": "execute_result",
          "data": {
            "text/html": [
              "<style  type=\"text/css\" >\n",
              "#T_f4506344_7d57_11ec_b1f3_0242ac1c0002row0_col1{\n",
              "            background-color:  #67000d;\n",
              "            color:  #f1f1f1;\n",
              "        }#T_f4506344_7d57_11ec_b1f3_0242ac1c0002row1_col1{\n",
              "            background-color:  #d21f20;\n",
              "            color:  #f1f1f1;\n",
              "        }#T_f4506344_7d57_11ec_b1f3_0242ac1c0002row2_col1{\n",
              "            background-color:  #f6583e;\n",
              "            color:  #000000;\n",
              "        }#T_f4506344_7d57_11ec_b1f3_0242ac1c0002row3_col1{\n",
              "            background-color:  #fcb398;\n",
              "            color:  #000000;\n",
              "        }#T_f4506344_7d57_11ec_b1f3_0242ac1c0002row4_col1{\n",
              "            background-color:  #fcbda4;\n",
              "            color:  #000000;\n",
              "        }#T_f4506344_7d57_11ec_b1f3_0242ac1c0002row5_col1{\n",
              "            background-color:  #fdcbb6;\n",
              "            color:  #000000;\n",
              "        }#T_f4506344_7d57_11ec_b1f3_0242ac1c0002row6_col1{\n",
              "            background-color:  #fdd5c4;\n",
              "            color:  #000000;\n",
              "        }#T_f4506344_7d57_11ec_b1f3_0242ac1c0002row7_col1{\n",
              "            background-color:  #fee8de;\n",
              "            color:  #000000;\n",
              "        }#T_f4506344_7d57_11ec_b1f3_0242ac1c0002row8_col1{\n",
              "            background-color:  #feeae1;\n",
              "            color:  #000000;\n",
              "        }#T_f4506344_7d57_11ec_b1f3_0242ac1c0002row9_col1{\n",
              "            background-color:  #fff5f0;\n",
              "            color:  #000000;\n",
              "        }</style><table id=\"T_f4506344_7d57_11ec_b1f3_0242ac1c0002\" class=\"dataframe\"><thead>    <tr>        <th class=\"blank level0\" ></th>        <th class=\"col_heading level0 col0\" >words</th>        <th class=\"col_heading level0 col1\" >count</th>    </tr></thead><tbody>\n",
              "                <tr>\n",
              "                        <th id=\"T_f4506344_7d57_11ec_b1f3_0242ac1c0002level0_row0\" class=\"row_heading level0 row0\" >0</th>\n",
              "                        <td id=\"T_f4506344_7d57_11ec_b1f3_0242ac1c0002row0_col0\" class=\"data row0 col0\" >love</td>\n",
              "                        <td id=\"T_f4506344_7d57_11ec_b1f3_0242ac1c0002row0_col1\" class=\"data row0 col1\" >2892</td>\n",
              "            </tr>\n",
              "            <tr>\n",
              "                        <th id=\"T_f4506344_7d57_11ec_b1f3_0242ac1c0002level0_row1\" class=\"row_heading level0 row1\" >1</th>\n",
              "                        <td id=\"T_f4506344_7d57_11ec_b1f3_0242ac1c0002row1_col0\" class=\"data row1 col0\" >ð</td>\n",
              "                        <td id=\"T_f4506344_7d57_11ec_b1f3_0242ac1c0002row1_col1\" class=\"data row1 col1\" >2465</td>\n",
              "            </tr>\n",
              "            <tr>\n",
              "                        <th id=\"T_f4506344_7d57_11ec_b1f3_0242ac1c0002level0_row2\" class=\"row_heading level0 row2\" >2</th>\n",
              "                        <td id=\"T_f4506344_7d57_11ec_b1f3_0242ac1c0002row2_col0\" class=\"data row2 col0\" >day</td>\n",
              "                        <td id=\"T_f4506344_7d57_11ec_b1f3_0242ac1c0002row2_col1\" class=\"data row2 col1\" >2191</td>\n",
              "            </tr>\n",
              "            <tr>\n",
              "                        <th id=\"T_f4506344_7d57_11ec_b1f3_0242ac1c0002level0_row3\" class=\"row_heading level0 row3\" >3</th>\n",
              "                        <td id=\"T_f4506344_7d57_11ec_b1f3_0242ac1c0002row3_col0\" class=\"data row3 col0\" >is</td>\n",
              "                        <td id=\"T_f4506344_7d57_11ec_b1f3_0242ac1c0002row3_col1\" class=\"data row3 col1\" >1771</td>\n",
              "            </tr>\n",
              "            <tr>\n",
              "                        <th id=\"T_f4506344_7d57_11ec_b1f3_0242ac1c0002level0_row4\" class=\"row_heading level0 row4\" >4</th>\n",
              "                        <td id=\"T_f4506344_7d57_11ec_b1f3_0242ac1c0002row4_col0\" class=\"data row4 col0\" >get</td>\n",
              "                        <td id=\"T_f4506344_7d57_11ec_b1f3_0242ac1c0002row4_col1\" class=\"data row4 col1\" >1719</td>\n",
              "            </tr>\n",
              "            <tr>\n",
              "                        <th id=\"T_f4506344_7d57_11ec_b1f3_0242ac1c0002level0_row5\" class=\"row_heading level0 row5\" >5</th>\n",
              "                        <td id=\"T_f4506344_7d57_11ec_b1f3_0242ac1c0002row5_col0\" class=\"data row5 col0\" >happy</td>\n",
              "                        <td id=\"T_f4506344_7d57_11ec_b1f3_0242ac1c0002row5_col1\" class=\"data row5 col1\" >1651</td>\n",
              "            </tr>\n",
              "            <tr>\n",
              "                        <th id=\"T_f4506344_7d57_11ec_b1f3_0242ac1c0002level0_row6\" class=\"row_heading level0 row6\" >6</th>\n",
              "                        <td id=\"T_f4506344_7d57_11ec_b1f3_0242ac1c0002row6_col0\" class=\"data row6 col0\" >â</td>\n",
              "                        <td id=\"T_f4506344_7d57_11ec_b1f3_0242ac1c0002row6_col1\" class=\"data row6 col1\" >1595</td>\n",
              "            </tr>\n",
              "            <tr>\n",
              "                        <th id=\"T_f4506344_7d57_11ec_b1f3_0242ac1c0002level0_row7\" class=\"row_heading level0 row7\" >7</th>\n",
              "                        <td id=\"T_f4506344_7d57_11ec_b1f3_0242ac1c0002row7_col0\" class=\"data row7 col0\" >i</td>\n",
              "                        <td id=\"T_f4506344_7d57_11ec_b1f3_0242ac1c0002row7_col1\" class=\"data row7 col1\" >1461</td>\n",
              "            </tr>\n",
              "            <tr>\n",
              "                        <th id=\"T_f4506344_7d57_11ec_b1f3_0242ac1c0002level0_row8\" class=\"row_heading level0 row8\" >8</th>\n",
              "                        <td id=\"T_f4506344_7d57_11ec_b1f3_0242ac1c0002row8_col0\" class=\"data row8 col0\" >not</td>\n",
              "                        <td id=\"T_f4506344_7d57_11ec_b1f3_0242ac1c0002row8_col1\" class=\"data row8 col1\" >1446</td>\n",
              "            </tr>\n",
              "            <tr>\n",
              "                        <th id=\"T_f4506344_7d57_11ec_b1f3_0242ac1c0002level0_row9\" class=\"row_heading level0 row9\" >9</th>\n",
              "                        <td id=\"T_f4506344_7d57_11ec_b1f3_0242ac1c0002row9_col0\" class=\"data row9 col0\" >go</td>\n",
              "                        <td id=\"T_f4506344_7d57_11ec_b1f3_0242ac1c0002row9_col1\" class=\"data row9 col1\" >1344</td>\n",
              "            </tr>\n",
              "    </tbody></table>"
            ],
            "text/plain": [
              "<pandas.io.formats.style.Styler at 0x7fb2b24b9750>"
            ]
          },
          "metadata": {},
          "execution_count": 26
        }
      ]
    },
    {
      "cell_type": "code",
      "source": [
        "hate_speech_top = top_words(trimmed_data_hate_speech)\n",
        "hate_speech_top.head(10).style.background_gradient(cmap='Reds')"
      ],
      "metadata": {
        "id": "I9ADIuj0tPhT",
        "outputId": "095cf278-e262-468f-e431-8325b1eed51e",
        "colab": {
          "base_uri": "https://localhost:8080/",
          "height": 0
        }
      },
      "id": "I9ADIuj0tPhT",
      "execution_count": 27,
      "outputs": [
        {
          "output_type": "execute_result",
          "data": {
            "text/html": [
              "<style  type=\"text/css\" >\n",
              "#T_f4ab2d74_7d57_11ec_b1f3_0242ac1c0002row0_col1{\n",
              "            background-color:  #67000d;\n",
              "            color:  #f1f1f1;\n",
              "        }#T_f4ab2d74_7d57_11ec_b1f3_0242ac1c0002row1_col1{\n",
              "            background-color:  #e83429;\n",
              "            color:  #f1f1f1;\n",
              "        }#T_f4ab2d74_7d57_11ec_b1f3_0242ac1c0002row2_col1{\n",
              "            background-color:  #f14331;\n",
              "            color:  #f1f1f1;\n",
              "        }#T_f4ab2d74_7d57_11ec_b1f3_0242ac1c0002row3_col1{\n",
              "            background-color:  #fb7050;\n",
              "            color:  #000000;\n",
              "        }#T_f4ab2d74_7d57_11ec_b1f3_0242ac1c0002row4_col1{\n",
              "            background-color:  #fc997a;\n",
              "            color:  #000000;\n",
              "        }#T_f4ab2d74_7d57_11ec_b1f3_0242ac1c0002row5_col1{\n",
              "            background-color:  #fcaa8d;\n",
              "            color:  #000000;\n",
              "        }#T_f4ab2d74_7d57_11ec_b1f3_0242ac1c0002row6_col1{\n",
              "            background-color:  #fcb095;\n",
              "            color:  #000000;\n",
              "        }#T_f4ab2d74_7d57_11ec_b1f3_0242ac1c0002row7_col1{\n",
              "            background-color:  #fcb79c;\n",
              "            color:  #000000;\n",
              "        }#T_f4ab2d74_7d57_11ec_b1f3_0242ac1c0002row8_col1{\n",
              "            background-color:  #fcc3ab;\n",
              "            color:  #000000;\n",
              "        }#T_f4ab2d74_7d57_11ec_b1f3_0242ac1c0002row9_col1{\n",
              "            background-color:  #fff5f0;\n",
              "            color:  #000000;\n",
              "        }</style><table id=\"T_f4ab2d74_7d57_11ec_b1f3_0242ac1c0002\" class=\"dataframe\"><thead>    <tr>        <th class=\"blank level0\" ></th>        <th class=\"col_heading level0 col0\" >words</th>        <th class=\"col_heading level0 col1\" >count</th>    </tr></thead><tbody>\n",
              "                <tr>\n",
              "                        <th id=\"T_f4ab2d74_7d57_11ec_b1f3_0242ac1c0002level0_row0\" class=\"row_heading level0 row0\" >0</th>\n",
              "                        <td id=\"T_f4ab2d74_7d57_11ec_b1f3_0242ac1c0002row0_col0\" class=\"data row0 col0\" >amp</td>\n",
              "                        <td id=\"T_f4ab2d74_7d57_11ec_b1f3_0242ac1c0002row0_col1\" class=\"data row0 col1\" >268</td>\n",
              "            </tr>\n",
              "            <tr>\n",
              "                        <th id=\"T_f4ab2d74_7d57_11ec_b1f3_0242ac1c0002level0_row1\" class=\"row_heading level0 row1\" >1</th>\n",
              "                        <td id=\"T_f4ab2d74_7d57_11ec_b1f3_0242ac1c0002row1_col0\" class=\"data row1 col0\" >trump</td>\n",
              "                        <td id=\"T_f4ab2d74_7d57_11ec_b1f3_0242ac1c0002row1_col1\" class=\"data row1 col1\" >210</td>\n",
              "            </tr>\n",
              "            <tr>\n",
              "                        <th id=\"T_f4ab2d74_7d57_11ec_b1f3_0242ac1c0002level0_row2\" class=\"row_heading level0 row2\" >2</th>\n",
              "                        <td id=\"T_f4ab2d74_7d57_11ec_b1f3_0242ac1c0002row2_col0\" class=\"data row2 col0\" >â</td>\n",
              "                        <td id=\"T_f4ab2d74_7d57_11ec_b1f3_0242ac1c0002row2_col1\" class=\"data row2 col1\" >202</td>\n",
              "            </tr>\n",
              "            <tr>\n",
              "                        <th id=\"T_f4ab2d74_7d57_11ec_b1f3_0242ac1c0002level0_row3\" class=\"row_heading level0 row3\" >3</th>\n",
              "                        <td id=\"T_f4ab2d74_7d57_11ec_b1f3_0242ac1c0002row3_col0\" class=\"data row3 col0\" >not</td>\n",
              "                        <td id=\"T_f4ab2d74_7d57_11ec_b1f3_0242ac1c0002row3_col1\" class=\"data row3 col1\" >182</td>\n",
              "            </tr>\n",
              "            <tr>\n",
              "                        <th id=\"T_f4ab2d74_7d57_11ec_b1f3_0242ac1c0002level0_row4\" class=\"row_heading level0 row4\" >4</th>\n",
              "                        <td id=\"T_f4ab2d74_7d57_11ec_b1f3_0242ac1c0002row4_col0\" class=\"data row4 col0\" >is</td>\n",
              "                        <td id=\"T_f4ab2d74_7d57_11ec_b1f3_0242ac1c0002row4_col1\" class=\"data row4 col1\" >161</td>\n",
              "            </tr>\n",
              "            <tr>\n",
              "                        <th id=\"T_f4ab2d74_7d57_11ec_b1f3_0242ac1c0002level0_row5\" class=\"row_heading level0 row5\" >5</th>\n",
              "                        <td id=\"T_f4ab2d74_7d57_11ec_b1f3_0242ac1c0002row5_col0\" class=\"data row5 col0\" >white</td>\n",
              "                        <td id=\"T_f4ab2d74_7d57_11ec_b1f3_0242ac1c0002row5_col1\" class=\"data row5 col1\" >152</td>\n",
              "            </tr>\n",
              "            <tr>\n",
              "                        <th id=\"T_f4ab2d74_7d57_11ec_b1f3_0242ac1c0002level0_row6\" class=\"row_heading level0 row6\" >6</th>\n",
              "                        <td id=\"T_f4ab2d74_7d57_11ec_b1f3_0242ac1c0002row6_col0\" class=\"data row6 col0\" >libtard</td>\n",
              "                        <td id=\"T_f4ab2d74_7d57_11ec_b1f3_0242ac1c0002row6_col1\" class=\"data row6 col1\" >149</td>\n",
              "            </tr>\n",
              "            <tr>\n",
              "                        <th id=\"T_f4ab2d74_7d57_11ec_b1f3_0242ac1c0002level0_row7\" class=\"row_heading level0 row7\" >7</th>\n",
              "                        <td id=\"T_f4ab2d74_7d57_11ec_b1f3_0242ac1c0002row7_col0\" class=\"data row7 col0\" >black</td>\n",
              "                        <td id=\"T_f4ab2d74_7d57_11ec_b1f3_0242ac1c0002row7_col1\" class=\"data row7 col1\" >146</td>\n",
              "            </tr>\n",
              "            <tr>\n",
              "                        <th id=\"T_f4ab2d74_7d57_11ec_b1f3_0242ac1c0002level0_row8\" class=\"row_heading level0 row8\" >8</th>\n",
              "                        <td id=\"T_f4ab2d74_7d57_11ec_b1f3_0242ac1c0002row8_col0\" class=\"data row8 col0\" >like</td>\n",
              "                        <td id=\"T_f4ab2d74_7d57_11ec_b1f3_0242ac1c0002row8_col1\" class=\"data row8 col1\" >139</td>\n",
              "            </tr>\n",
              "            <tr>\n",
              "                        <th id=\"T_f4ab2d74_7d57_11ec_b1f3_0242ac1c0002level0_row9\" class=\"row_heading level0 row9\" >9</th>\n",
              "                        <td id=\"T_f4ab2d74_7d57_11ec_b1f3_0242ac1c0002row9_col0\" class=\"data row9 col0\" >racist</td>\n",
              "                        <td id=\"T_f4ab2d74_7d57_11ec_b1f3_0242ac1c0002row9_col1\" class=\"data row9 col1\" >102</td>\n",
              "            </tr>\n",
              "    </tbody></table>"
            ],
            "text/plain": [
              "<pandas.io.formats.style.Styler at 0x7fb2b24b8790>"
            ]
          },
          "metadata": {},
          "execution_count": 27
        }
      ]
    },
    {
      "cell_type": "markdown",
      "source": [
        "### Vectorization (Convert text data to numbers)."
      ],
      "metadata": {
        "id": "4YNKn6W31DuZ"
      },
      "id": "4YNKn6W31DuZ"
    },
    {
      "cell_type": "code",
      "source": [
        "data_for_countVectorizer = trimmed_data.copy(deep=True)\n",
        "\n",
        "from sklearn.feature_extraction.text import CountVectorizer\n",
        "\n",
        "ct_vectorizer = CountVectorizer(max_features=2000)                # Keep only 1000 features as number of features will increase the processing time.\n",
        "cv_data_features = ct_vectorizer.fit_transform(data_for_countVectorizer['tweet'])\n",
        "cv_data_features = cv_data_features.toarray()                        # Convert the data features to array.\n",
        "print(cv_data_features)"
      ],
      "metadata": {
        "colab": {
          "base_uri": "https://localhost:8080/"
        },
        "id": "75KKGE--VmAu",
        "outputId": "ff85d561-6e96-4776-9a0f-e8d36b322670"
      },
      "id": "75KKGE--VmAu",
      "execution_count": 28,
      "outputs": [
        {
          "output_type": "stream",
          "name": "stdout",
          "text": [
            "[[0 0 0 ... 0 0 0]\n",
            " [0 0 0 ... 0 0 0]\n",
            " [0 0 0 ... 0 0 0]\n",
            " ...\n",
            " [0 0 0 ... 0 0 0]\n",
            " [0 0 0 ... 0 0 0]\n",
            " [0 0 0 ... 0 0 0]]\n"
          ]
        }
      ]
    },
    {
      "cell_type": "code",
      "source": [
        "cv_data_features.shape"
      ],
      "metadata": {
        "colab": {
          "base_uri": "https://localhost:8080/"
        },
        "id": "XUafmlwnVs-l",
        "outputId": "d6496a1b-0beb-4ed0-ee79-d25607ee6c39"
      },
      "id": "XUafmlwnVs-l",
      "execution_count": 29,
      "outputs": [
        {
          "output_type": "execute_result",
          "data": {
            "text/plain": [
              "(31962, 2000)"
            ]
          },
          "metadata": {},
          "execution_count": 29
        }
      ]
    },
    {
      "cell_type": "code",
      "source": [
        "labels = data_for_countVectorizer['label']\n",
        "labels = labels.astype('int')\n",
        "print(labels)"
      ],
      "metadata": {
        "colab": {
          "base_uri": "https://localhost:8080/"
        },
        "id": "k3V7Sj-xVvtk",
        "outputId": "8ade10ea-eee2-4feb-8330-e97f97b429d9"
      },
      "id": "k3V7Sj-xVvtk",
      "execution_count": 30,
      "outputs": [
        {
          "output_type": "stream",
          "name": "stdout",
          "text": [
            "0        0\n",
            "1        0\n",
            "2        0\n",
            "3        0\n",
            "4        0\n",
            "        ..\n",
            "31957    0\n",
            "31958    0\n",
            "31959    0\n",
            "31960    1\n",
            "31961    0\n",
            "Name: label, Length: 31962, dtype: int64\n"
          ]
        }
      ]
    },
    {
      "cell_type": "markdown",
      "source": [
        "### Split data into training and testing set."
      ],
      "metadata": {
        "id": "AH_3Y0jN1JyV"
      },
      "id": "AH_3Y0jN1JyV"
    },
    {
      "cell_type": "code",
      "source": [
        "X_train, X_test, y_train, y_test = train_test_split(cv_data_features, labels, test_size=0.3, random_state=13)"
      ],
      "metadata": {
        "id": "qw74AglpV6XX"
      },
      "id": "qw74AglpV6XX",
      "execution_count": 31,
      "outputs": []
    },
    {
      "cell_type": "markdown",
      "source": [
        "### Random Forest Classifier for Count Vectorization"
      ],
      "metadata": {
        "id": "v-4s9cNn1Ngm"
      },
      "id": "v-4s9cNn1Ngm"
    },
    {
      "cell_type": "code",
      "source": [
        "# Using Random Forest to build model for the classification of reviews.\n",
        "# Also calculating the cross validation score.\n",
        "\n",
        "cv_forest = RandomForestClassifier(n_estimators=10, n_jobs=4, class_weight = \"balanced\")\n",
        "\n",
        "cv_forest = cv_forest.fit(X_train, y_train)\n",
        "\n",
        "print(cv_forest)\n",
        "\n",
        "print(np.mean(cross_val_score(cv_forest, cv_data_features, labels, cv=10)))"
      ],
      "metadata": {
        "colab": {
          "base_uri": "https://localhost:8080/"
        },
        "id": "jqyZ1KpAV--Z",
        "outputId": "ec1e3048-2f31-49aa-9b2a-344bfcdede47"
      },
      "id": "jqyZ1KpAV--Z",
      "execution_count": 32,
      "outputs": [
        {
          "output_type": "stream",
          "name": "stdout",
          "text": [
            "RandomForestClassifier(class_weight='balanced', n_estimators=10, n_jobs=4)\n",
            "0.9417743989495785\n"
          ]
        }
      ]
    },
    {
      "cell_type": "code",
      "source": [
        "# Predict the result for test data using the model built above.\n",
        "cv_result = cv_forest.predict(X_test)\n",
        "# Print and plot Confusion matirx to get an idea of how the distribution of the prediction is, among all the classes.\n",
        "\n",
        "from sklearn.metrics import confusion_matrix\n",
        "\n",
        "conf_mat = confusion_matrix(y_test, cv_result)\n",
        "\n",
        "print(conf_mat)"
      ],
      "metadata": {
        "colab": {
          "base_uri": "https://localhost:8080/"
        },
        "id": "Q7qXuFoUXAOm",
        "outputId": "c13497db-6d21-45af-bf9e-487d8e39793c"
      },
      "id": "Q7qXuFoUXAOm",
      "execution_count": 33,
      "outputs": [
        {
          "output_type": "stream",
          "name": "stdout",
          "text": [
            "[[8656  298]\n",
            " [ 284  351]]\n"
          ]
        }
      ]
    },
    {
      "cell_type": "markdown",
      "source": [
        "### Confusion Matrix for Count Vectorization Model"
      ],
      "metadata": {
        "id": "agG2oVAC1aCV"
      },
      "id": "agG2oVAC1aCV"
    },
    {
      "cell_type": "code",
      "source": [
        "df_cm = pd.DataFrame(conf_mat, index = [i for i in [\"Neutral\", \"Hate Speech\"]],\n",
        "                  columns = [i for i in [\"Neutral\", \"Hate Speech\"]])\n",
        "plt.figure(figsize = (10,7))\n",
        "sns.heatmap(df_cm, annot=True, fmt='g')"
      ],
      "metadata": {
        "colab": {
          "base_uri": "https://localhost:8080/",
          "height": 446
        },
        "id": "L2t5WRcwXEFt",
        "outputId": "3bbe7e12-0118-4d87-b10d-539f550cfba1"
      },
      "id": "L2t5WRcwXEFt",
      "execution_count": 34,
      "outputs": [
        {
          "output_type": "execute_result",
          "data": {
            "text/plain": [
              "<matplotlib.axes._subplots.AxesSubplot at 0x7fb2b54b86d0>"
            ]
          },
          "metadata": {},
          "execution_count": 34
        },
        {
          "output_type": "display_data",
          "data": {
            "image/png": "[encoded data removed]",
            "text/plain": [
              "<Figure size 720x504 with 2 Axes>"
            ]
          },
          "metadata": {
            "needs_background": "light"
          }
        }
      ]
    },
    {
      "cell_type": "code",
      "source": [
        "print('The accuracy score of the predicted model using CountVectorizer is: ', round(accuracy_score(y_test, cv_result),2)) "
      ],
      "metadata": {
        "colab": {
          "base_uri": "https://localhost:8080/"
        },
        "id": "YKdFvs9MXiSG",
        "outputId": "06fbf857-1f04-4ee2-ecc5-a7e30f28736d"
      },
      "id": "YKdFvs9MXiSG",
      "execution_count": 35,
      "outputs": [
        {
          "output_type": "stream",
          "name": "stdout",
          "text": [
            "The accuracy score of the predicted model using CountVectorizer is:  0.94\n"
          ]
        }
      ]
    },
    {
      "cell_type": "code",
      "source": [
        "def plot_roc_curve(fper, tper):  \n",
        "    plt.plot(fper, tper, color='orange', label='ROC')\n",
        "    plt.plot([0, 1], [0, 1], color='darkblue', linestyle='--')\n",
        "    plt.xlabel('False Positive Rate')\n",
        "    plt.ylabel('True Positive Rate')\n",
        "    plt.title('Receiver Operating Characteristic (ROC) Curve')\n",
        "    plt.legend()\n",
        "    plt.show()"
      ],
      "metadata": {
        "id": "SurWvQ5mVaAO"
      },
      "id": "SurWvQ5mVaAO",
      "execution_count": 36,
      "outputs": []
    },
    {
      "cell_type": "code",
      "source": [
        "pred_prob1 = cv_forest.predict_proba(X_test)\n",
        "pred_prob1 = pred_prob1[:, 1]  \n",
        "fper, tper, thresholds = roc_curve(y_test, pred_prob1) \n",
        "plot_roc_curve(fper, tper)"
      ],
      "metadata": {
        "colab": {
          "base_uri": "https://localhost:8080/",
          "height": 295
        },
        "id": "7LCGxyrhOQEz",
        "outputId": "e97368b5-4608-4300-ebe3-fb509cc4e699"
      },
      "id": "7LCGxyrhOQEz",
      "execution_count": 37,
      "outputs": [
        {
          "output_type": "display_data",
          "data": {
            "image/png": "[encoded data removed]",
            "text/plain": [
              "<Figure size 432x288 with 1 Axes>"
            ]
          },
          "metadata": {
            "needs_background": "light"
          }
        }
      ]
    },
    {
      "cell_type": "code",
      "source": [
        "print(classification_report(y_test, cv_result))"
      ],
      "metadata": {
        "id": "QHsFQLrZsvUh",
        "outputId": "e42693ad-7df1-4edb-dc09-d8b278607802",
        "colab": {
          "base_uri": "https://localhost:8080/"
        }
      },
      "id": "QHsFQLrZsvUh",
      "execution_count": 38,
      "outputs": [
        {
          "output_type": "stream",
          "name": "stdout",
          "text": [
            "              precision    recall  f1-score   support\n",
            "\n",
            "           0       0.97      0.97      0.97      8954\n",
            "           1       0.54      0.55      0.55       635\n",
            "\n",
            "    accuracy                           0.94      9589\n",
            "   macro avg       0.75      0.76      0.76      9589\n",
            "weighted avg       0.94      0.94      0.94      9589\n",
            "\n"
          ]
        }
      ]
    },
    {
      "cell_type": "markdown",
      "source": [
        "### Tf-Idf Vectorization"
      ],
      "metadata": {
        "id": "2k9cH9-n1fNU"
      },
      "id": "2k9cH9-n1fNU"
    },
    {
      "cell_type": "code",
      "source": [
        "# TfidfVectorizer\n",
        "data_for_TfidfVectorizer = trimmed_data.copy(deep=True)\n",
        "# Using TfidfVectorizer to convert text data to numbers.\n",
        "\n",
        "t_vectorizer = TfidfVectorizer(max_features=2000)\n",
        "tv_data_features = t_vectorizer.fit_transform(data_for_TfidfVectorizer['tweet'])\n",
        "\n",
        "tv_data_features = tv_data_features.toarray()\n",
        "\n",
        "tv_data_features.shape"
      ],
      "metadata": {
        "colab": {
          "base_uri": "https://localhost:8080/"
        },
        "id": "-97wjX1DXrie",
        "outputId": "013a3a86-d9d3-43ba-8c2f-9e1228209280"
      },
      "id": "-97wjX1DXrie",
      "execution_count": 39,
      "outputs": [
        {
          "output_type": "execute_result",
          "data": {
            "text/plain": [
              "(31962, 2000)"
            ]
          },
          "metadata": {},
          "execution_count": 39
        }
      ]
    },
    {
      "cell_type": "code",
      "source": [
        "X_train, X_test, y_train, y_test = train_test_split(tv_data_features, labels, test_size=0.3, random_state=42)"
      ],
      "metadata": {
        "id": "_hTvVZBFXx2Y"
      },
      "id": "_hTvVZBFXx2Y",
      "execution_count": 40,
      "outputs": []
    },
    {
      "cell_type": "code",
      "source": [
        "# Using Random Forest to build model for the classification of reviews.\n",
        "# Also calculating the cross validation score.\n",
        "\n",
        "tv_forest = RandomForestClassifier(n_estimators=10, n_jobs=4, class_weight = \"balanced\")\n",
        "tv_forest = tv_forest.fit(X_train, y_train)\n",
        "print(tv_forest)\n",
        "print(np.mean(cross_val_score(tv_forest, tv_data_features, labels, cv=10)))"
      ],
      "metadata": {
        "colab": {
          "base_uri": "https://localhost:8080/"
        },
        "id": "bGvBET5ZX1-u",
        "outputId": "9b374352-58cc-4b3c-c2e6-d9b6eb7dc3f9"
      },
      "id": "bGvBET5ZX1-u",
      "execution_count": 41,
      "outputs": [
        {
          "output_type": "stream",
          "name": "stdout",
          "text": [
            "RandomForestClassifier(class_weight='balanced', n_estimators=10, n_jobs=4)\n",
            "0.9533508710254412\n"
          ]
        }
      ]
    },
    {
      "cell_type": "markdown",
      "source": [
        "### Confusion Matrix for TF-IDF vectorization Model"
      ],
      "metadata": {
        "id": "8SXSncOr1qOF"
      },
      "id": "8SXSncOr1qOF"
    },
    {
      "cell_type": "code",
      "source": [
        "tv_result = tv_forest.predict(X_test)\n",
        "\n",
        "conf_mat = confusion_matrix(y_test, tv_result)\n",
        "\n",
        "df_cm = pd.DataFrame(conf_mat, index = [i for i in [\"Neutral\", \"Hate Speech\"]],\n",
        "                  columns = [i for i in [\"Neutral\", \"Hate Speech\"]])\n",
        "plt.figure(figsize = (10,7))\n",
        "sns.heatmap(df_cm, annot=True, fmt='g')"
      ],
      "metadata": {
        "colab": {
          "base_uri": "https://localhost:8080/",
          "height": 446
        },
        "id": "dlb5o0QEZnbK",
        "outputId": "4fdc0ffd-bfe6-4040-9439-6a858894d536"
      },
      "id": "dlb5o0QEZnbK",
      "execution_count": 42,
      "outputs": [
        {
          "output_type": "execute_result",
          "data": {
            "text/plain": [
              "<matplotlib.axes._subplots.AxesSubplot at 0x7fb2b4a823d0>"
            ]
          },
          "metadata": {},
          "execution_count": 42
        },
        {
          "output_type": "display_data",
          "data": {
            "image/png": "[encoded data removed]",
            "text/plain": [
              "<Figure size 720x504 with 2 Axes>"
            ]
          },
          "metadata": {
            "needs_background": "light"
          }
        }
      ]
    },
    {
      "cell_type": "code",
      "source": [
        "pred_prob2 = tv_forest.predict_proba(X_test)\n",
        "pred_prob2 = pred_prob2[:, 1]  \n",
        "fper, tper, thresholds = roc_curve(y_test, pred_prob2) \n",
        "plot_roc_curve(fper, tper)"
      ],
      "metadata": {
        "colab": {
          "base_uri": "https://localhost:8080/",
          "height": 295
        },
        "id": "pBXtnyUaoRi6",
        "outputId": "877513b9-aee4-4a9a-fb69-3e9c73386449"
      },
      "id": "pBXtnyUaoRi6",
      "execution_count": 43,
      "outputs": [
        {
          "output_type": "display_data",
          "data": {
            "image/png": "[encoded data removed]",
            "text/plain": [
              "<Figure size 432x288 with 1 Axes>"
            ]
          },
          "metadata": {
            "needs_background": "light"
          }
        }
      ]
    },
    {
      "cell_type": "code",
      "source": [
        "print(classification_report(y_test, tv_result))"
      ],
      "metadata": {
        "id": "wGbPTs4LsnpR",
        "outputId": "9d5a85ef-6be2-4f48-9a25-f25d4d84d60c",
        "colab": {
          "base_uri": "https://localhost:8080/"
        }
      },
      "id": "wGbPTs4LsnpR",
      "execution_count": 44,
      "outputs": [
        {
          "output_type": "stream",
          "name": "stdout",
          "text": [
            "              precision    recall  f1-score   support\n",
            "\n",
            "           0       0.96      0.98      0.97      8905\n",
            "           1       0.69      0.47      0.56       684\n",
            "\n",
            "    accuracy                           0.95      9589\n",
            "   macro avg       0.83      0.73      0.77      9589\n",
            "weighted avg       0.94      0.95      0.94      9589\n",
            "\n"
          ]
        }
      ]
    },
    {
      "cell_type": "markdown",
      "source": [
        "### Pipeline experimentation"
      ],
      "metadata": {
        "id": "pqnprLsTBtzr"
      },
      "id": "pqnprLsTBtzr"
    },
    {
      "cell_type": "code",
      "source": [
        "from sklearn.pipeline import Pipeline\n",
        "\n",
        "data_for_pipeline = trimmed_data.copy(deep=True)\n",
        "X_train, X_test, y_train, y_test = train_test_split(data_for_pipeline, labels, test_size=0.3, random_state=42)\n",
        "steps = [ ('tfidf', TfidfVectorizer()),\n",
        "          ('randomforestclassifier', RandomForestClassifier())\n",
        "      ]\n",
        "pipe = Pipeline(steps)\n",
        "\n",
        "pipe = pipe.fit(X_train['tweet'],y_train)\n",
        "print(pipe)"
      ],
      "metadata": {
        "id": "3Xpvyw_G29d-",
        "outputId": "58f44232-314f-4e95-b0a3-1809ef50dc77",
        "colab": {
          "base_uri": "https://localhost:8080/"
        }
      },
      "id": "3Xpvyw_G29d-",
      "execution_count": 70,
      "outputs": [
        {
          "output_type": "stream",
          "name": "stdout",
          "text": [
            "Pipeline(steps=[('tfidf', TfidfVectorizer()),\n",
            "                ('randomforestclassifier', RandomForestClassifier())])\n"
          ]
        }
      ]
    },
    {
      "cell_type": "code",
      "source": [
        "pipe_result = pipe.predict(X_test['tweet'])\n",
        "\n",
        "conf_mat = confusion_matrix(y_test, pipe_result)\n",
        "\n",
        "df_cm = pd.DataFrame(conf_mat, index = [i for i in [\"Neutral\", \"Hate Speech\"]],\n",
        "                  columns = [i for i in [\"Neutral\", \"Hate Speech\"]])\n",
        "plt.figure(figsize = (10,7))\n",
        "sns.heatmap(df_cm, annot=True, fmt='g')"
      ],
      "metadata": {
        "id": "Xu1B2pWhBIYn",
        "outputId": "69324728-6ab4-4630-9141-fe3467a8422c",
        "colab": {
          "base_uri": "https://localhost:8080/",
          "height": 446
        }
      },
      "id": "Xu1B2pWhBIYn",
      "execution_count": 72,
      "outputs": [
        {
          "output_type": "execute_result",
          "data": {
            "text/plain": [
              "<matplotlib.axes._subplots.AxesSubplot at 0x7fb2aee24190>"
            ]
          },
          "metadata": {},
          "execution_count": 72
        },
        {
          "output_type": "display_data",
          "data": {
            "image/png": "[encoded data removed]",
            "text/plain": [
              "<Figure size 720x504 with 2 Axes>"
            ]
          },
          "metadata": {
            "needs_background": "light"
          }
        }
      ]
    },
    {
      "cell_type": "code",
      "source": [
        "print(classification_report(y_test, pipe_result))"
      ],
      "metadata": {
        "id": "5DpYKBCGBjtv",
        "outputId": "b753ba3d-9a5e-4c42-f984-97d242aab38c",
        "colab": {
          "base_uri": "https://localhost:8080/"
        }
      },
      "id": "5DpYKBCGBjtv",
      "execution_count": 73,
      "outputs": [
        {
          "output_type": "stream",
          "name": "stdout",
          "text": [
            "              precision    recall  f1-score   support\n",
            "\n",
            "           0       0.96      0.99      0.98      8905\n",
            "           1       0.85      0.48      0.61       684\n",
            "\n",
            "    accuracy                           0.96      9589\n",
            "   macro avg       0.91      0.74      0.80      9589\n",
            "weighted avg       0.95      0.96      0.95      9589\n",
            "\n"
          ]
        }
      ]
    }
  ],
  "metadata": {
    "kernelspec": {
      "display_name": "Python 3 (ipykernel)",
      "language": "python",
      "name": "python3"
    },
    "language_info": {
      "codemirror_mode": {
        "name": "ipython",
        "version": 3
      },
      "file_extension": ".py",
      "mimetype": "text/x-python",
      "name": "python",
      "nbconvert_exporter": "python",
      "pygments_lexer": "ipython3",
      "version": "3.9.7"
    },
    "colab": {
      "name": "sentiment-analysis.ipynb",
      "provenance": [],
      "include_colab_link": true
    }
  },
  "nbformat": 4,
  "nbformat_minor": 5
}