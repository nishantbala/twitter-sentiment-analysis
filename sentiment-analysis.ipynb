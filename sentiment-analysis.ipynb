{
 "cells": [
  {
   "cell_type": "markdown",
   "id": "28393154-77b9-4109-9edd-4f18a739980f",
   "metadata": {},
   "source": [
    "# 1. Import the libraries, load dataset, print shape of data, data description"
   ]
  },
  {
   "cell_type": "code",
   "execution_count": 4,
   "id": "744857d4-f7bf-4001-8c6b-d68a791cc1ca",
   "metadata": {},
   "outputs": [
    {
     "name": "stdout",
     "output_type": "stream",
     "text": [
      "Collecting contractions\n",
      "  Using cached contractions-0.0.58-py2.py3-none-any.whl (8.0 kB)\n",
      "Collecting textsearch>=0.0.21\n",
      "  Using cached textsearch-0.0.21-py2.py3-none-any.whl (7.5 kB)\n",
      "Collecting anyascii\n",
      "  Using cached anyascii-0.3.0-py3-none-any.whl (284 kB)\n",
      "Collecting pyahocorasick\n",
      "  Using cached pyahocorasick-1.4.2.tar.gz (321 kB)\n",
      "Building wheels for collected packages: pyahocorasick\n",
      "  Building wheel for pyahocorasick (setup.py): started\n",
      "  Building wheel for pyahocorasick (setup.py): finished with status 'error'\n",
      "  Running setup.py clean for pyahocorasick\n",
      "Failed to build pyahocorasick\n",
      "Installing collected packages: pyahocorasick, anyascii, textsearch, contractions\n",
      "    Running setup.py install for pyahocorasick: started\n",
      "    Running setup.py install for pyahocorasick: finished with status 'error'\n"
     ]
    },
    {
     "name": "stderr",
     "output_type": "stream",
     "text": [
      "  ERROR: Command errored out with exit status 1:\n",
      "   command: 'C:\\Users\\BALASUN1.LEGAL\\Anaconda3\\envs\\Datascience\\python.exe' -u -c 'import io, os, sys, setuptools, tokenize; sys.argv[0] = '\"'\"'C:\\\\Users\\\\BALASUN1.LEGAL\\\\AppData\\\\Local\\\\Temp\\\\pip-install-10qr9vfc\\\\pyahocorasick_b9a4067986d84a738d8b2ca9fca1a8a5\\\\setup.py'\"'\"'; __file__='\"'\"'C:\\\\Users\\\\BALASUN1.LEGAL\\\\AppData\\\\Local\\\\Temp\\\\pip-install-10qr9vfc\\\\pyahocorasick_b9a4067986d84a738d8b2ca9fca1a8a5\\\\setup.py'\"'\"';f = getattr(tokenize, '\"'\"'open'\"'\"', open)(__file__) if os.path.exists(__file__) else io.StringIO('\"'\"'from setuptools import setup; setup()'\"'\"');code = f.read().replace('\"'\"'\\r\\n'\"'\"', '\"'\"'\\n'\"'\"');f.close();exec(compile(code, __file__, '\"'\"'exec'\"'\"'))' bdist_wheel -d 'C:\\Users\\BALASUN1.LEGAL\\AppData\\Local\\Temp\\pip-wheel-rgemct11'\n",
      "       cwd: C:\\Users\\BALASUN1.LEGAL\\AppData\\Local\\Temp\\pip-install-10qr9vfc\\pyahocorasick_b9a4067986d84a738d8b2ca9fca1a8a5\\\n",
      "  Complete output (5 lines):\n",
      "  running bdist_wheel\n",
      "  running build\n",
      "  running build_ext\n",
      "  building 'ahocorasick' extension\n",
      "  error: Microsoft Visual C++ 14.0 or greater is required. Get it with \"Microsoft C++ Build Tools\": https://visualstudio.microsoft.com/visual-cpp-build-tools/\n",
      "  ----------------------------------------\n",
      "  ERROR: Failed building wheel for pyahocorasick\n",
      "    ERROR: Command errored out with exit status 1:\n",
      "     command: 'C:\\Users\\BALASUN1.LEGAL\\Anaconda3\\envs\\Datascience\\python.exe' -u -c 'import io, os, sys, setuptools, tokenize; sys.argv[0] = '\"'\"'C:\\\\Users\\\\BALASUN1.LEGAL\\\\AppData\\\\Local\\\\Temp\\\\pip-install-10qr9vfc\\\\pyahocorasick_b9a4067986d84a738d8b2ca9fca1a8a5\\\\setup.py'\"'\"'; __file__='\"'\"'C:\\\\Users\\\\BALASUN1.LEGAL\\\\AppData\\\\Local\\\\Temp\\\\pip-install-10qr9vfc\\\\pyahocorasick_b9a4067986d84a738d8b2ca9fca1a8a5\\\\setup.py'\"'\"';f = getattr(tokenize, '\"'\"'open'\"'\"', open)(__file__) if os.path.exists(__file__) else io.StringIO('\"'\"'from setuptools import setup; setup()'\"'\"');code = f.read().replace('\"'\"'\\r\\n'\"'\"', '\"'\"'\\n'\"'\"');f.close();exec(compile(code, __file__, '\"'\"'exec'\"'\"'))' install --record 'C:\\Users\\BALASUN1.LEGAL\\AppData\\Local\\Temp\\pip-record-vdt8ykk8\\install-record.txt' --single-version-externally-managed --compile --install-headers 'C:\\Users\\BALASUN1.LEGAL\\Anaconda3\\envs\\Datascience\\Include\\pyahocorasick'\n",
      "         cwd: C:\\Users\\BALASUN1.LEGAL\\AppData\\Local\\Temp\\pip-install-10qr9vfc\\pyahocorasick_b9a4067986d84a738d8b2ca9fca1a8a5\\\n",
      "    Complete output (5 lines):\n",
      "    running install\n",
      "    running build\n",
      "    running build_ext\n",
      "    building 'ahocorasick' extension\n",
      "    error: Microsoft Visual C++ 14.0 or greater is required. Get it with \"Microsoft C++ Build Tools\": https://visualstudio.microsoft.com/visual-cpp-build-tools/\n",
      "    ----------------------------------------\n",
      "ERROR: Command errored out with exit status 1: 'C:\\Users\\BALASUN1.LEGAL\\Anaconda3\\envs\\Datascience\\python.exe' -u -c 'import io, os, sys, setuptools, tokenize; sys.argv[0] = '\"'\"'C:\\\\Users\\\\BALASUN1.LEGAL\\\\AppData\\\\Local\\\\Temp\\\\pip-install-10qr9vfc\\\\pyahocorasick_b9a4067986d84a738d8b2ca9fca1a8a5\\\\setup.py'\"'\"'; __file__='\"'\"'C:\\\\Users\\\\BALASUN1.LEGAL\\\\AppData\\\\Local\\\\Temp\\\\pip-install-10qr9vfc\\\\pyahocorasick_b9a4067986d84a738d8b2ca9fca1a8a5\\\\setup.py'\"'\"';f = getattr(tokenize, '\"'\"'open'\"'\"', open)(__file__) if os.path.exists(__file__) else io.StringIO('\"'\"'from setuptools import setup; setup()'\"'\"');code = f.read().replace('\"'\"'\\r\\n'\"'\"', '\"'\"'\\n'\"'\"');f.close();exec(compile(code, __file__, '\"'\"'exec'\"'\"'))' install --record 'C:\\Users\\BALASUN1.LEGAL\\AppData\\Local\\Temp\\pip-record-vdt8ykk8\\install-record.txt' --single-version-externally-managed --compile --install-headers 'C:\\Users\\BALASUN1.LEGAL\\Anaconda3\\envs\\Datascience\\Include\\pyahocorasick' Check the logs for full command output.\n"
     ]
    },
    {
     "ename": "ModuleNotFoundError",
     "evalue": "No module named 'contractions'",
     "output_type": "error",
     "traceback": [
      "\u001b[1;31m---------------------------------------------------------------------------\u001b[0m",
      "\u001b[1;31mModuleNotFoundError\u001b[0m                       Traceback (most recent call last)",
      "\u001b[1;32mC:\\Users\\BALASU~1.LEG\\AppData\\Local\\Temp/ipykernel_3876/3732949283.py\u001b[0m in \u001b[0;36m<module>\u001b[1;34m\u001b[0m\n\u001b[0;32m      3\u001b[0m \u001b[0mget_ipython\u001b[0m\u001b[1;33m(\u001b[0m\u001b[1;33m)\u001b[0m\u001b[1;33m.\u001b[0m\u001b[0msystem\u001b[0m\u001b[1;33m(\u001b[0m\u001b[1;34m'{sys.executable} -m pip install contractions'\u001b[0m\u001b[1;33m)\u001b[0m\u001b[1;33m\u001b[0m\u001b[1;33m\u001b[0m\u001b[0m\n\u001b[0;32m      4\u001b[0m \u001b[1;32mimport\u001b[0m \u001b[0mre\u001b[0m\u001b[1;33m,\u001b[0m \u001b[0mstring\u001b[0m\u001b[1;33m,\u001b[0m \u001b[0municodedata\u001b[0m                          \u001b[1;31m# Import Regex, string and unicodedata.\u001b[0m\u001b[1;33m\u001b[0m\u001b[1;33m\u001b[0m\u001b[0m\n\u001b[1;32m----> 5\u001b[1;33m \u001b[1;32mimport\u001b[0m \u001b[0mcontractions\u001b[0m                                     \u001b[1;31m# Import contractions library.\u001b[0m\u001b[1;33m\u001b[0m\u001b[1;33m\u001b[0m\u001b[0m\n\u001b[0m\u001b[0;32m      6\u001b[0m \u001b[1;32mfrom\u001b[0m \u001b[0mbs4\u001b[0m \u001b[1;32mimport\u001b[0m \u001b[0mBeautifulSoup\u001b[0m                           \u001b[1;31m# Import BeautifulSoup.\u001b[0m\u001b[1;33m\u001b[0m\u001b[1;33m\u001b[0m\u001b[0m\n\u001b[0;32m      7\u001b[0m \u001b[1;33m\u001b[0m\u001b[0m\n",
      "\u001b[1;31mModuleNotFoundError\u001b[0m: No module named 'contractions'"
     ]
    }
   ],
   "source": [
    "import sys\n",
    "\n",
    "!{sys.executable} -m pip install contractions\n",
    "import re, string, unicodedata                          # Import Regex, string and unicodedata.\n",
    "import contractions                                     # Import contractions library.\n",
    "from bs4 import BeautifulSoup                           # Import BeautifulSoup.\n",
    "\n",
    "import numpy as np                                      # Import numpy.\n",
    "import pandas as pd                                     # Import pandas.\n",
    "import nltk                                             # Import Natural Language Tool-Kit.\n",
    "\n",
    "nltk.download('stopwords')                              # Download Stopwords.\n",
    "nltk.download('punkt')\n",
    "nltk.download('wordnet')\n",
    "\n",
    "from nltk.corpus import stopwords                       # Import stopwords.\n",
    "from nltk.tokenize import word_tokenize, sent_tokenize  # Import Tokenizer.\n",
    "from nltk.stem.wordnet import WordNetLemmatizer         # Import Lemmatizer.\n",
    "from sklearn.metrics import accuracy_score"
   ]
  },
  {
   "cell_type": "code",
   "execution_count": null,
   "id": "40d722b6-9a52-489e-b46f-9eabbfa7c126",
   "metadata": {},
   "outputs": [],
   "source": [
    "pip install pyahocorasick"
   ]
  },
  {
   "cell_type": "code",
   "execution_count": null,
   "id": "220e9a00-a171-46d7-9ef0-519c702944e5",
   "metadata": {},
   "outputs": [],
   "source": []
  }
 ],
 "metadata": {
  "kernelspec": {
   "display_name": "Python 3 (ipykernel)",
   "language": "python",
   "name": "python3"
  },
  "language_info": {
   "codemirror_mode": {
    "name": "ipython",
    "version": 3
   },
   "file_extension": ".py",
   "mimetype": "text/x-python",
   "name": "python",
   "nbconvert_exporter": "python",
   "pygments_lexer": "ipython3",
   "version": "3.9.7"
  }
 },
 "nbformat": 4,
 "nbformat_minor": 5
}
